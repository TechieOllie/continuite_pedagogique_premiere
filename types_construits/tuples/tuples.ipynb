{
 "cells": [
  {
   "cell_type": "markdown",
   "metadata": {},
   "source": [
    "<div class =\"alert alert-warning\">   \n",
    "    \n",
    "    \n",
    "notebook consultable, exécutable, modifiable et téléchargeable en ligne :     \n",
    "    \n",
    "\t\n",
    "- se rendre à : https://github.com/nsi-acot/continuite_pedagogique_premiere\n",
    "- cliquer sur l'icone \"launch binder\" en bas de page\n",
    "- patienter quelques secondes que le serveur Jupyter démarre\n",
    "- naviguer dans le dossier `\"./types_construits/tuples/\"`\n",
    "- cliquer sur le nom de ce notebook\n",
    "</div>"
   ]
  },
  {
   "cell_type": "markdown",
   "metadata": {},
   "source": [
    "# <center> p-uplets(ou tuples)</center>"
   ]
  },
  {
   "cell_type": "markdown",
   "metadata": {},
   "source": [
    "Python propose un type de données appelé tuple, qui est assez semblable à une liste mais qui, comme les chaînes, n’est pas modifiable. Du point de vue de la syntaxe, un tuple est une collection d’éléments séparés par des virgules :"
   ]
  },
  {
   "cell_type": "code",
   "execution_count": 1,
   "metadata": {},
   "outputs": [
    {
     "name": "stdout",
     "output_type": "stream",
     "text": [
      "(1, 2, 3) <class 'tuple'>\n",
      "(6, 7) <class 'tuple'>\n",
      "('abc', 'def') <class 'tuple'>\n",
      "('a', 1, 'b', 2) <class 'tuple'>\n"
     ]
    }
   ],
   "source": [
    "#Exécuter le code ci-dessous\n",
    "tup1 = 1,2,3\n",
    "tup2 = (6,7)\n",
    "tup3 = 'abc','def'\n",
    "tup4 = ('a',1,'b',2)\n",
    "print(tup1,type(tup1))\n",
    "print(tup2,type(tup2))\n",
    "print(tup3,type(tup3))\n",
    "print(tup4,type(tup4))"
   ]
  },
  {
   "cell_type": "markdown",
   "metadata": {},
   "source": [
    "A retenir :\n",
    "   *  De simples virgules suffisent à définir un tuple mais pour la lisibilité du code, il est préférable de l'enfermer dans des parenthèses."
   ]
  },
  {
   "cell_type": "markdown",
   "metadata": {},
   "source": [
    "### Opérations sur les tuples"
   ]
  },
  {
   "cell_type": "code",
   "execution_count": 1,
   "metadata": {},
   "outputs": [
    {
     "name": "stdout",
     "output_type": "stream",
     "text": [
      "7\n"
     ]
    }
   ],
   "source": [
    "#affectations\n",
    "t= 7,8,9\n",
    "a,b,c = t\n",
    "print(a)"
   ]
  },
  {
   "cell_type": "code",
   "execution_count": 12,
   "metadata": {},
   "outputs": [
    {
     "name": "stdout",
     "output_type": "stream",
     "text": [
      "(3, 2, 1, 3, 2, 1, 6, 5, 4)\n"
     ]
    }
   ],
   "source": [
    "# opérateurs + et * : concanténation et répétition\n",
    "t1=  (3,2,1)\n",
    "t2 = (6,5,4)\n",
    "t3 = 2*t1+t2\n",
    "print(t3)"
   ]
  },
  {
   "cell_type": "code",
   "execution_count": 17,
   "metadata": {},
   "outputs": [
    {
     "name": "stdout",
     "output_type": "stream",
     "text": [
      "2\n"
     ]
    }
   ],
   "source": [
    "# Accéder aux éléments\n",
    "t4 = (2,4)\n",
    "print(t4[0])"
   ]
  },
  {
   "cell_type": "code",
   "execution_count": 13,
   "metadata": {},
   "outputs": [
    {
     "name": "stdout",
     "output_type": "stream",
     "text": [
      "9\n"
     ]
    }
   ],
   "source": [
    "# longueur d'un tuple\n",
    "print(len(t3))"
   ]
  },
  {
   "cell_type": "code",
   "execution_count": 20,
   "metadata": {},
   "outputs": [
    {
     "name": "stdout",
     "output_type": "stream",
     "text": [
      "1 2 3 4 5 6 7 8 9 10 "
     ]
    }
   ],
   "source": [
    "# Parcours d'un tuple\n",
    "t5 = (0,1,2,3,4,5,6,7,8,9)\n",
    "for e in t5 :\n",
    "    print(e+1, end=' ')"
   ]
  },
  {
   "cell_type": "code",
   "execution_count": 2,
   "metadata": {},
   "outputs": [
    {
     "name": "stdout",
     "output_type": "stream",
     "text": [
      "False\n"
     ]
    }
   ],
   "source": [
    "# test in \n",
    "b = 3 in (2,4,6)\n",
    "print(b)"
   ]
  },
  {
   "cell_type": "code",
   "execution_count": 19,
   "metadata": {},
   "outputs": [
    {
     "ename": "AttributeError",
     "evalue": "'tuple' object has no attribute 'append'",
     "output_type": "error",
     "traceback": [
      "\u001b[1;31m---------------------------------------------------------------------------\u001b[0m",
      "\u001b[1;31mAttributeError\u001b[0m                            Traceback (most recent call last)",
      "\u001b[1;32m<ipython-input-19-366c3bc37ff0>\u001b[0m in \u001b[0;36m<module>\u001b[1;34m\u001b[0m\n\u001b[0;32m      1\u001b[0m \u001b[1;31m# les tuples ne sont pas des listes\u001b[0m\u001b[1;33m\u001b[0m\u001b[1;33m\u001b[0m\u001b[1;33m\u001b[0m\u001b[0m\n\u001b[0;32m      2\u001b[0m \u001b[0mt6\u001b[0m \u001b[1;33m=\u001b[0m \u001b[1;33m(\u001b[0m\u001b[1;36m2\u001b[0m\u001b[1;33m,\u001b[0m\u001b[1;36m4\u001b[0m\u001b[1;33m,\u001b[0m\u001b[1;36m6\u001b[0m\u001b[1;33m,\u001b[0m\u001b[1;36m8\u001b[0m\u001b[1;33m)\u001b[0m\u001b[1;33m\u001b[0m\u001b[1;33m\u001b[0m\u001b[0m\n\u001b[1;32m----> 3\u001b[1;33m \u001b[0mt6\u001b[0m\u001b[1;33m.\u001b[0m\u001b[0mappend\u001b[0m\u001b[1;33m(\u001b[0m\u001b[1;36m10\u001b[0m\u001b[1;33m)\u001b[0m\u001b[1;33m\u001b[0m\u001b[1;33m\u001b[0m\u001b[0m\n\u001b[0m",
      "\u001b[1;31mAttributeError\u001b[0m: 'tuple' object has no attribute 'append'"
     ]
    }
   ],
   "source": [
    "# les tuples ne sont pas des listes\n",
    "t6 = (2,4,6,8)\n",
    "t6.append(10)"
   ]
  },
  {
   "cell_type": "code",
   "execution_count": 14,
   "metadata": {},
   "outputs": [
    {
     "name": "stdout",
     "output_type": "stream",
     "text": [
      "(1, 2, 3, 4, 5, 6)\n"
     ]
    }
   ],
   "source": [
    "#Ajouter un élément à un tuple\n",
    "t7 = 1,2,3,4,5\n",
    "t7 = t7 + (6,) # ne pas oublier la virgule et les parenthèses\n",
    "print(t7)"
   ]
  },
  {
   "cell_type": "markdown",
   "metadata": {},
   "source": [
    "A retenir :\n",
    "* Les opérateurs de concaténation `+` et de multiplication `*` donnent les mêmes résultats que pour les chaînes et les listes.\n",
    "* On accède aux éléments d'un tuple comme avec les chaînes et les listes.\n",
    "* On peut déterminer la taille d’un tuple à l’aide de la fonction `len()`.\n",
    "* On peut le parcourir à l’aide d’une boucle `for`, utiliser l’instruction `in` pour savoir si un élément donné en fait partie, exactement comme pour une liste ou pour une chaîne.\n",
    "* Les tuples ne sont pas modifiables et on ne peut pas utiliser avec eux  ni la méthode `.append()`ni l'instruction `del()`.\n",
    "* Les tuples sont moins souples que les listes mais c'est aussi leur force. On est sûr que leur contenu ne sera pas modifié par erreur. De plus ils sont beaucoup moins gourmands en ressources et sont éxécutés plus rapidement."
   ]
  },
  {
   "cell_type": "markdown",
   "metadata": {},
   "source": [
    "### Exercice 1 :\n",
    "Ecrire la fonction `reverse(t)` qui prend en paramètre un tuple de trois valeurs et qui renvoie un tuple contenant les 3 valeurs dans l'ordre inverse.\n",
    "\n",
    "Ainsi `reverse(1,2,3)` renvoie `(3,2,1)`"
   ]
  },
  {
   "cell_type": "code",
   "execution_count": 1,
   "metadata": {},
   "outputs": [],
   "source": [
    "#Réponse\n",
    "def reverse(t):\n",
    "    \n",
    "    return \n",
    "\n",
    "reverse((1,2,3))"
   ]
  },
  {
   "cell_type": "markdown",
   "metadata": {},
   "source": [
    "### Exercice 2 : \n",
    "Ecrire la fonction `initiales` qui prend en paramètre une chaîne de caractères de type `'NOM Prénom'` et qui renvoie un tuple contenant les initiales des noms et prénoms passés en argument. \n",
    "\n",
    "Ainsi `initiales('John Doe')` doit renvoyer `('J','D')`."
   ]
  },
  {
   "cell_type": "code",
   "execution_count": 2,
   "metadata": {},
   "outputs": [],
   "source": [
    "#Réponse:\n",
    "def initiales(identite):\n",
    "    \n",
    "    return \n",
    "\n",
    "initiales('John Doe')"
   ]
  },
  {
   "cell_type": "markdown",
   "metadata": {},
   "source": [
    "### Exercice 3 :\n",
    "En utilisant le résultat précédent, compléter la fonction `initiale_nom(noms,lettre)` qui prend en paramètres un tuple de noms et prénoms formatés comme précédemment ainsi qu'un caractère et qui renvoie un tuple contenant les chaînes avec la même initiale de nom.\n",
    "\n",
    "Ainsi avec le tuple ci-dessous, `initiale_nom(stars,'S')` doit renvoyer `('Claude Shannon','Ivan Sutherland', 'Otto Scmitt')`"
   ]
  },
  {
   "cell_type": "code",
   "execution_count": 3,
   "metadata": {},
   "outputs": [],
   "source": [
    "#Réponse\n",
    "stars = ('Ada Lovelace','Alan Turing','Claude Shannon','Donald Knuth','Georges Boole','Grace Hopper',\n",
    "         'Ivan Sutherland','John Von Neumann','Linus Thorvalds','Otto Schmitt','Tim Berners-Lee','Tommy Flowers')\n",
    "\n",
    "def initiale_nom(noms, lettre):\n",
    "   \n",
    "    return \n",
    "\n",
    "#Appels\n",
    "initiale_nom(stars,'S')"
   ]
  },
  {
   "cell_type": "markdown",
   "metadata": {},
   "source": [
    "### Exercice 4 :\n",
    "<img style='float:right;' src='fusions.png' width=200>\n",
    "On se place dans le contexte du codage des couleurs selon le système RGB, déjà vu dans une feuille précédente. Dans une image dite bitmap, chaque pixel contient une couleur composée de ses couches Rouge, Verte et Bleue, chacune de ces couches étant représentée par un entier compris entre $0$ et $255$\n",
    "\n",
    "Dans les logiciels de traitement d'images(Photoshop, Gimp,...), on travaille avec des calques d'images que l'on superpose et que l'on fusionne. En fonction des opérations mathématiques utilisées pour fusionner les calques, on obtient des rendus esthétiques différents:\n",
    "<img style='float:right;' src='http://www.info-3000.com/photoshop/modefusion02.jpg' width=400>\n",
    "\n",
    "Chacune des fonctions demandées correspondent à un mode de fusion de Photoshop , prennent en paramètres deux tuples de trois valeurs`pix1`et `pix2` correspondants aux deux pixels que l'on souhaite fusionner et renvoient un tuple  contenant la couleur finale obtenue.\n",
    "\n",
    "Pour s'aider, voici une description des formules de certains modes de fusion( en milieu de page) :\n",
    "https://helpx.adobe.com/fr/after-effects/using/blending-modes-layer-styles.html\n",
    "\n",
    "On pourra tester avec les deux pixels `p1=(200,128,63)` et `p2=(125,205,50)`. Fonctions `min()` et `max()` autorisées !"
   ]
  },
  {
   "cell_type": "code",
   "execution_count": 5,
   "metadata": {},
   "outputs": [],
   "source": [
    "p1 = (200,128,63)\n",
    "p2 = (125,205,50)"
   ]
  },
  {
   "cell_type": "markdown",
   "metadata": {},
   "source": [
    "1. `eclaircir(p1,p2)` renvoie `(200,205,63)`"
   ]
  },
  {
   "cell_type": "code",
   "execution_count": 6,
   "metadata": {},
   "outputs": [
    {
     "data": {
      "text/plain": [
       "(0, 0, 0)"
      ]
     },
     "execution_count": 6,
     "metadata": {},
     "output_type": "execute_result"
    }
   ],
   "source": [
    "#1 :\n",
    "def eclaircir(pix1, pix2):\n",
    "    r=0\n",
    "    g=0  \n",
    "    b=0 \n",
    "    \n",
    "    return (r,g,b)\n",
    "\n",
    "eclaircir(p1,p2)"
   ]
  },
  {
   "cell_type": "markdown",
   "metadata": {},
   "source": [
    "2. `obscurcir(p1,p2)` renvoie `(125,128,50)`"
   ]
  },
  {
   "cell_type": "code",
   "execution_count": 7,
   "metadata": {},
   "outputs": [
    {
     "data": {
      "text/plain": [
       "(0, 0, 0)"
      ]
     },
     "execution_count": 7,
     "metadata": {},
     "output_type": "execute_result"
    }
   ],
   "source": [
    "#2 :\n",
    "def obscurcir(pix1, pix2):\n",
    "    r= 0\n",
    "    g= 0\n",
    "    b= 0\n",
    "    \n",
    "    return (r,g,b)\n",
    "\n",
    "obscurcir(p1,p2)"
   ]
  },
  {
   "cell_type": "markdown",
   "metadata": {},
   "source": [
    "3. `difference(p1,p2)` renvoie `(75,155,13)`"
   ]
  },
  {
   "cell_type": "code",
   "execution_count": 8,
   "metadata": {},
   "outputs": [
    {
     "data": {
      "text/plain": [
       "(0, 0, 0)"
      ]
     },
     "execution_count": 8,
     "metadata": {},
     "output_type": "execute_result"
    }
   ],
   "source": [
    "#3 :\n",
    "def difference(pix1,pix2):\n",
    "    r= 0\n",
    "    g= 0\n",
    "    b= 0\n",
    "    \n",
    "    return (r,g,b)\n",
    "\n",
    "difference(p1,p2)"
   ]
  },
  {
   "cell_type": "markdown",
   "metadata": {},
   "source": [
    "4. `addition(p1,p2)` renvoie `(255,255,113)`"
   ]
  },
  {
   "cell_type": "code",
   "execution_count": 9,
   "metadata": {},
   "outputs": [
    {
     "data": {
      "text/plain": [
       "(0, 0, 0)"
      ]
     },
     "execution_count": 9,
     "metadata": {},
     "output_type": "execute_result"
    }
   ],
   "source": [
    "#4 :\n",
    "def addition(pix1,pix2):\n",
    "    r= 0\n",
    "    g= 0\n",
    "    b= 0\n",
    "    \n",
    "    return (r,g,b)\n",
    "\n",
    "addition(p1,p2)"
   ]
  },
  {
   "cell_type": "markdown",
   "metadata": {},
   "source": [
    "5. `soustraction(p1,p2)` renvoie `(0,77,0)`"
   ]
  },
  {
   "cell_type": "code",
   "execution_count": 10,
   "metadata": {},
   "outputs": [
    {
     "data": {
      "text/plain": [
       "(0, 0, 0)"
      ]
     },
     "execution_count": 10,
     "metadata": {},
     "output_type": "execute_result"
    }
   ],
   "source": [
    "#5 :\n",
    "def soustraction(pix1,pix2):\n",
    "    r= 0\n",
    "    g= 0\n",
    "    b= 0\n",
    "    \n",
    "    return (r,g,b)\n",
    "\n",
    "soustraction(p1,p2)"
   ]
  },
  {
   "cell_type": "markdown",
   "metadata": {},
   "source": [
    "6. `produit(p1,p2)` renvoie `(98,103,12)`"
   ]
  },
  {
   "cell_type": "code",
   "execution_count": 11,
   "metadata": {},
   "outputs": [
    {
     "data": {
      "text/plain": [
       "(0, 0, 0)"
      ]
     },
     "execution_count": 11,
     "metadata": {},
     "output_type": "execute_result"
    }
   ],
   "source": [
    "#6 :\n",
    "def produit(pix1,pix2):\n",
    "    r= 0\n",
    "    g= 0\n",
    "    b= 0\n",
    "    \n",
    "    return (r,g,b)\n",
    "\n",
    "produit(p1,p2)"
   ]
  },
  {
   "cell_type": "markdown",
   "metadata": {},
   "source": [
    "7. `division(p1,p2)` renvoie `(159,255,202)`"
   ]
  },
  {
   "cell_type": "code",
   "execution_count": 12,
   "metadata": {},
   "outputs": [
    {
     "data": {
      "text/plain": [
       "(0, 0, 0)"
      ]
     },
     "execution_count": 12,
     "metadata": {},
     "output_type": "execute_result"
    }
   ],
   "source": [
    "#7 :\n",
    "def division(pix1,pix2):\n",
    "    r= 0\n",
    "    g= 0\n",
    "    b= 0\n",
    "    \n",
    "    return (r,g,b)\n",
    "\n",
    "division(p1,p2)"
   ]
  },
  {
   "cell_type": "markdown",
   "metadata": {},
   "source": [
    "8. `superposition(p1,p2)` renvoie `(226,230,100)`"
   ]
  },
  {
   "cell_type": "code",
   "execution_count": 13,
   "metadata": {},
   "outputs": [
    {
     "data": {
      "text/plain": [
       "(0, 0, 0)"
      ]
     },
     "execution_count": 13,
     "metadata": {},
     "output_type": "execute_result"
    }
   ],
   "source": [
    "#8 :\n",
    "def superposition(pix1,pix2):\n",
    "    r= 0\n",
    "    g= 0\n",
    "    b= 0\n",
    "    \n",
    "    return (r,g,b)\n",
    "    \n",
    "superposition(p1,p2)"
   ]
  },
  {
   "cell_type": "code",
   "execution_count": null,
   "metadata": {},
   "outputs": [],
   "source": []
  }
 ],
 "metadata": {
  "kernelspec": {
   "display_name": "Python 3",
   "language": "python",
   "name": "python3"
  },
  "language_info": {
   "codemirror_mode": {
    "name": "ipython",
    "version": 3
   },
   "file_extension": ".py",
   "mimetype": "text/x-python",
   "name": "python",
   "nbconvert_exporter": "python",
   "pygments_lexer": "ipython3",
   "version": "3.8.1"
  }
 },
 "nbformat": 4,
 "nbformat_minor": 2
}
