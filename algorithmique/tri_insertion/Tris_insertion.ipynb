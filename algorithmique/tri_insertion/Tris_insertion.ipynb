{
 "cells": [
  {
   "cell_type": "markdown",
   "metadata": {},
   "source": [
    "<div class =\"alert alert-warning\">   \n",
    "    \n",
    "    \n",
    "notebook consultable, exécutable, modifiable et téléchargeable en ligne :     \n",
    "    \n",
    "\t\n",
    "- se rendre à : https://github.com/nsi-acot/continuite_pedagogique_premiere\n",
    "- cliquer sur l'icone \"launch binder\" en bas de page\n",
    "- patienter quelques secondes que le serveur Jupyter démarre\n",
    "- naviguer dans le dossier `\"./algorithmique/tri_insertion/\"`\n",
    "- cliquer sur le nom de ce notebook\n",
    "</div>"
   ]
  },
  {
   "cell_type": "markdown",
   "metadata": {},
   "source": [
    "# <center> TRIER </center>"
   ]
  },
  {
   "cell_type": "markdown",
   "metadata": {},
   "source": [
    "<center><b>Le tri est une activité fondamentale et omniprésente de l'informatique.</b></center>\n",
    "\n",
    "<img src='tri.jpg' width=200> \n",
    "\n",
    "* On l'utilise régulièrement, par exemple :\n",
    "   * Lorsque l'on consulte sur Internet des listes de produits que l'on souhaite afficher par prix croissant ou décroissant, par popularité...\n",
    "   * Lorsque dans un tableur on souhaite trier des noms par ordre alphabétique\n",
    "   * Lorsque l'on affiche ses photos par date\n",
    "\n",
    "\n",
    "* Cela permet d'étudier des concepts algorithmiques puissants et efficaces\n",
    "\n",
    "\n",
    "* <b>Pour simplifier, on cherche ici à trier des liste d'entiers dans l'ordre croissant. Le but d’un algorithme de tri est ainsi de calculer une nouvelle liste, ou\n",
    "de modifier la liste initiale, de manière à ce qu’elle contienne les mêmes\n",
    "nombres que la liste de départ, mais que ces éléments soient ordonnés.</b>"
   ]
  },
  {
   "cell_type": "code",
   "execution_count": 1,
   "metadata": {},
   "outputs": [
    {
     "name": "stdout",
     "output_type": "stream",
     "text": [
      "[12, -16, -21, -10, -9]\n"
     ]
    }
   ],
   "source": [
    "#Générer une liste d'entiers aléatoires\n",
    "from random import *\n",
    "L=[randint(-32,32) for i in range(5)]\n",
    "print(L)"
   ]
  },
  {
   "cell_type": "markdown",
   "metadata": {},
   "source": [
    "## 1. De quoi dispose un ordinateur pour trier ?\n",
    "\n",
    "* Une fonction de comparaison ($<$ , $>$ ), pour comparer deux valeurs.\n",
    "* Des zones de stockage pour mémoriser des emplacements(à l'aide de l'index des éléments d'une liste), déplacer des valeurs...\n",
    "* Il existe des dizaines d'algorithmes de tri, nous allons en étudier 2 cette année : \n",
    "  * **Le tri par sélection.**\n",
    "  * **Le tri par insertion.**"
   ]
  },
  {
   "cell_type": "markdown",
   "metadata": {},
   "source": [
    "## 2. Le tri par insertion\n",
    "\n",
    "<img align='center' src='Insertion-Sort.gif' width=400>"
   ]
  },
  {
   "cell_type": "markdown",
   "metadata": {},
   "source": [
    "### Présentation\n",
    "\n",
    "* C'est celui que l'on utilise intuitivement lorsque l'on trie des cartes à jouer dans sa main.\n",
    "* Dans une liste, on commence par trier les deux premiers élements en insérant éventuellement le deuxième élément en première position.\n",
    "* On insère tour à tour chaque élément non trié à sa place dans l'ensemble déjà trié précédemment.\n",
    "\n",
    "#### Exemple : \n",
    "\n",
    "On cherche à trier la liste suivante : `[29, -6, 12, -11, 10]`.\n",
    "\n",
    "* On insère $-6$ en première position `[ -6, 29, 12, -11, 10]`\n",
    "* On insère $12$ en deuxième position `[ -6, 12, 29, -11, 10]`\n",
    "* On insère $-11$ en première position `[ -11, -6, 12, 29, 10]`\n",
    "* On insère $10$ en troisième position `[ -11, -6, 10, 12, 29]`"
   ]
  },
  {
   "cell_type": "markdown",
   "metadata": {},
   "source": [
    "#### Exercice 1:\n",
    "1. En indiquant les listes intermédiaires obtenues, trier la liste `[5, -27, -14, 10, 7]` par insertion.\n",
    " \n",
    "    *  \n",
    "    *  \n",
    "    *  \n",
    "\n",
    "2. Même exercice avec la liste `[30, 24, -7, -19, 26, 21, -18]`\n",
    "   *  \n",
    "   *  \n",
    "   *  \n",
    "   *  \n",
    "   *  \n",
    "   *  "
   ]
  },
  {
   "cell_type": "markdown",
   "metadata": {},
   "source": [
    "### Programmation\n",
    "\n",
    "#### Insérer l'élément d'index `i`\n",
    " \n",
    "* Sauvegarder `L[i]` dans une variable.\n",
    "* Parcourir la partie de la liste déjà triée en commençant à l'index `i-1` jusqu'à trouver la position d'insertion en décalant dans le même temps les éléments pour pouvoir effectuer l'insertion.\n",
    "* Insérer l'élément."
   ]
  },
  {
   "cell_type": "markdown",
   "metadata": {},
   "source": [
    "#### Exercice 2 :\n",
    "On considère la liste `L=[2,15,23,10,5,1]`. Cette liste est triée jusqu'à l'index $2$.  En remplaçant les `?`, compléter le programme python qui doit permettre d'insérer l'élément d'index $3$ à sa place.\n",
    "\n",
    "L'instruction `print(L)` doit renvoyer `L=[2,10,15,23,5,1]`."
   ]
  },
  {
   "cell_type": "code",
   "execution_count": 1,
   "metadata": {},
   "outputs": [
    {
     "ename": "SyntaxError",
     "evalue": "invalid syntax (<ipython-input-1-be5c9dd75216>, line 4)",
     "output_type": "error",
     "traceback": [
      "\u001b[1;36m  File \u001b[1;32m\"<ipython-input-1-be5c9dd75216>\"\u001b[1;36m, line \u001b[1;32m4\u001b[0m\n\u001b[1;33m    j=?\u001b[0m\n\u001b[1;37m      ^\u001b[0m\n\u001b[1;31mSyntaxError\u001b[0m\u001b[1;31m:\u001b[0m invalid syntax\n"
     ]
    }
   ],
   "source": [
    "L=[2,15,23,10,5,1]\n",
    "\n",
    "temp=L[3]\n",
    "j=?\n",
    "while L[j]>temp:\n",
    "    L[?]=L[?]\n",
    "    j=j-1\n",
    "L[j+1]=?\n",
    "\n",
    "print(L)"
   ]
  },
  {
   "cell_type": "markdown",
   "metadata": {},
   "source": [
    "#### Exercice 3 :\n",
    "1. On considère la liste `L=[2,10,15,23,5,1]`. Cette liste est triée jusqu'à l'index $3$.  Recopier et modifier le programme python de l'exercice précédent pour permettre d'insérer l'élément d'index $4$ à sa place.\n",
    "L'instruction `print(L)` doit renvoyer `L=[2,5,10,15,23,1]`"
   ]
  },
  {
   "cell_type": "code",
   "execution_count": 7,
   "metadata": {},
   "outputs": [],
   "source": [
    "#1.\n",
    "L=[2,10,15,23,5,1]\n",
    "\n",
    "\n",
    "\n",
    "\n",
    "\n",
    "\n"
   ]
  },
  {
   "cell_type": "markdown",
   "metadata": {},
   "source": [
    "2. On considère la liste `L=[2,5,10,15,23,1]`. Le programme ci-dessous doit insérer le dernier élément à sa place,ici au début de la liste, mais il renvoie une erreur. Le modifier(on pourra faire afficher les différentes valeurs prises par `j` pour trouver l'erreur). L'instruction `print(L)` doit renvoyer `L=[1,2,5,10,15,23]`."
   ]
  },
  {
   "cell_type": "code",
   "execution_count": 14,
   "metadata": {},
   "outputs": [
    {
     "ename": "IndexError",
     "evalue": "list index out of range",
     "output_type": "error",
     "traceback": [
      "\u001b[1;31m---------------------------------------------------------------------------\u001b[0m",
      "\u001b[1;31mIndexError\u001b[0m                                Traceback (most recent call last)",
      "\u001b[1;32m<ipython-input-14-c737d2a4290d>\u001b[0m in \u001b[0;36m<module>\u001b[1;34m\u001b[0m\n\u001b[0;32m      3\u001b[0m \u001b[0mtemp\u001b[0m\u001b[1;33m=\u001b[0m\u001b[0mL\u001b[0m\u001b[1;33m[\u001b[0m\u001b[1;36m5\u001b[0m\u001b[1;33m]\u001b[0m\u001b[1;33m\u001b[0m\u001b[1;33m\u001b[0m\u001b[0m\n\u001b[0;32m      4\u001b[0m \u001b[0mj\u001b[0m\u001b[1;33m=\u001b[0m\u001b[1;36m4\u001b[0m\u001b[1;33m\u001b[0m\u001b[1;33m\u001b[0m\u001b[0m\n\u001b[1;32m----> 5\u001b[1;33m \u001b[1;32mwhile\u001b[0m \u001b[0mL\u001b[0m\u001b[1;33m[\u001b[0m\u001b[0mj\u001b[0m\u001b[1;33m]\u001b[0m\u001b[1;33m>\u001b[0m\u001b[0mtemp\u001b[0m\u001b[1;33m:\u001b[0m\u001b[1;33m\u001b[0m\u001b[1;33m\u001b[0m\u001b[0m\n\u001b[0m\u001b[0;32m      6\u001b[0m     \u001b[0mL\u001b[0m\u001b[1;33m[\u001b[0m\u001b[0mj\u001b[0m\u001b[1;33m+\u001b[0m\u001b[1;36m1\u001b[0m\u001b[1;33m]\u001b[0m\u001b[1;33m=\u001b[0m\u001b[0mL\u001b[0m\u001b[1;33m[\u001b[0m\u001b[0mj\u001b[0m\u001b[1;33m]\u001b[0m\u001b[1;33m\u001b[0m\u001b[1;33m\u001b[0m\u001b[0m\n\u001b[0;32m      7\u001b[0m     \u001b[0mj\u001b[0m\u001b[1;33m=\u001b[0m\u001b[0mj\u001b[0m\u001b[1;33m-\u001b[0m\u001b[1;36m1\u001b[0m\u001b[1;33m\u001b[0m\u001b[1;33m\u001b[0m\u001b[0m\n",
      "\u001b[1;31mIndexError\u001b[0m: list index out of range"
     ]
    }
   ],
   "source": [
    "#2.\n",
    "L=[2, 5, 10, 15, 23, 1]\n",
    "temp=L[5]\n",
    "j=4\n",
    "while L[j]>temp:\n",
    "    L[j+1]=L[j]\n",
    "    j=j-1\n",
    "L[j+1]=temp\n",
    "\n",
    "print(L)"
   ]
  },
  {
   "cell_type": "markdown",
   "metadata": {},
   "source": [
    "#### Exercice 4 :\n",
    "La fonction `tri_insert(L)` prend en paramètre une liste `L` d'entiers et doit renvoyer cette liste triée par sélection.\n",
    "En vous aidant des résultats précédents, compléter cette fonction en remplaçant les `?`."
   ]
  },
  {
   "cell_type": "code",
   "execution_count": null,
   "metadata": {},
   "outputs": [],
   "source": [
    "#Algorithme du tri par insertion\n",
    "def tri_insert(L):\n",
    "    for i  in range(?) :\n",
    "        tmp = L[?]\n",
    "        j=?\n",
    "        while j>=0 and L[j]>tmp:\n",
    "            L[j+1] = L[j]\n",
    "            j = j-1\n",
    "        L[j+1] = tmp\n",
    "    return L\n",
    "\n",
    "L=[randint(-32,32) for i in range(10)]\n",
    "print (L)\n",
    "print(tri_insert(L))"
   ]
  },
  {
   "cell_type": "markdown",
   "metadata": {},
   "source": [
    "#### Remarques\n",
    "* La complexité de cet algorithme est quadratique, en $\\mathcal{O}(n^2)$.\n",
    "* Cependant , cet algorithme est plus efficace que le tri sélection lorsqu'une partie de la liste est triée.\n",
    "* On est sur que cet algorithme se termine car :\n",
    "   * On sort de la boucle `for` une fois le parcours terminé.\n",
    "   * Le booléen `j>=0` et l'instruction `j=j-1` font que la boucle `while` finit par se terminer."
   ]
  }
 ],
 "metadata": {
  "kernelspec": {
   "display_name": "Python 3",
   "language": "python",
   "name": "python3"
  },
  "language_info": {
   "codemirror_mode": {
    "name": "ipython",
    "version": 3
   },
   "file_extension": ".py",
   "mimetype": "text/x-python",
   "name": "python",
   "nbconvert_exporter": "python",
   "pygments_lexer": "ipython3",
   "version": "3.8.1"
  }
 },
 "nbformat": 4,
 "nbformat_minor": 2
}
