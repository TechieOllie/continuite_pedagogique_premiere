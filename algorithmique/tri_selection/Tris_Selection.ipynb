{
 "cells": [
  {
   "cell_type": "markdown",
   "metadata": {},
   "source": [
    "<div class =\"alert alert-warning\">   \n",
    "    \n",
    "    \n",
    "notebook consultable, exécutable, modifiable et téléchargeable en ligne :     \n",
    "    \n",
    "\t\n",
    "- se rendre à : https://github.com/nsi-acot/continuite_pedagogique_premiere\n",
    "- cliquer sur l'icone \"launch binder\" en bas de page\n",
    "- patienter quelques secondes que le serveur Jupyter démarre\n",
    "- naviguer dans le dossier `\"./algorithmique/tri_selection/\"`\n",
    "- cliquer sur le nom de ce notebook\n",
    "</div>"
   ]
  },
  {
   "cell_type": "markdown",
   "metadata": {},
   "source": [
    "# <center> TRIER </center>"
   ]
  },
  {
   "cell_type": "markdown",
   "metadata": {},
   "source": [
    "<center><b>Le tri est une activité fondamentale et omniprésente de l'informatique.</b></center>\n",
    "\n",
    "<img src='tri.jpg' width=200> \n",
    "\n",
    "* On l'utilise régulièrement, par exemple :\n",
    "   * Lorsque l'on consulte sur Internet des listes de produits que l'on souhaite afficher par prix croissant ou décroissant, par popularité...\n",
    "   * Lorsque dans un tableur on souhaite trier des noms par ordre alphabétique\n",
    "   * Lorsque l'on affiche ses photos par date\n",
    "\n",
    "\n",
    "* Cela permet d'étudier des concepts algorithmiques puissants et efficaces\n",
    "\n",
    "\n",
    "* <b>Pour simplifier, on cherche ici à trier des liste d'entiers dans l'ordre croissant. Le but d’un algorithme de tri est ainsi de calculer une nouvelle liste, ou\n",
    "de modifier la liste initiale, de manière à ce qu’elle contienne les mêmes\n",
    "nombres que la liste de départ, mais que ces éléments soient ordonnés.</b>"
   ]
  },
  {
   "cell_type": "code",
   "execution_count": 1,
   "metadata": {},
   "outputs": [
    {
     "name": "stdout",
     "output_type": "stream",
     "text": [
      "[12, -16, -21, -10, -9]\n"
     ]
    }
   ],
   "source": [
    "#Générer une liste d'entiers aléatoires\n",
    "from random import *\n",
    "L=[randint(-32,32) for i in range(5)]\n",
    "print(L)"
   ]
  },
  {
   "cell_type": "markdown",
   "metadata": {},
   "source": [
    "## 1. De quoi dispose un ordinateur pour trier ?\n",
    "\n",
    "* Une fonction de comparaison ($<$ , $>$ ), pour comparer deux valeurs.\n",
    "* Des zones de stockage pour mémoriser des emplacements(à l'aide de l'index des éléments d'une liste), déplacer des valeurs...\n",
    "* Il existe des dizaines d'algorithmes de tri, nous allons en étudier 2 cette année : \n",
    "  * **Le tri par sélection.**\n",
    "  * **Le tri par insertion.**"
   ]
  },
  {
   "cell_type": "markdown",
   "metadata": {},
   "source": [
    "## 2. Le tri par sélection\n",
    "\n",
    "<img src='Selection-Sort.gif' width='400'>\n",
    "\n",
    "### Présentation \n",
    "* On commence par chercher, parmi les nombres à trier, un élément plus petit que tous les autres. Cet élément sera le premier de la liste triée. \n",
    "* On cherche ensuite, parmi ceux qui restent, un élément plus petit que tous les autres, qui sera le deuxième du tableau trié\n",
    "* On recommence pour trouver le troisième élément trié et ainsi de suite jusqu'à ce que toute la liste soit triée.\n",
    "\n",
    "\n",
    "#### Exemple : \n",
    "\n",
    "On cherche à trier la liste suivante : `[29, -6, 12, -11, 10]`\n",
    "\n",
    "* Le plus petit élement est $-11$, on le place au premier index 0\n",
    "* Que fait-on du $29$ ? Il prend la place de $-11$, la liste devient donc : `[-11,-6,12,29,10]`\n",
    "* Le plus petit des élements restants à trier est $-6$, il est déjà bien placé à l'index 1.\n",
    "* Le plus petit des élements restants à trier est $10$, on le place en troisième position (index 2).\n",
    "* Que fait-on du $12$ ? Il prend la place de $10$, la liste devient donc : `[-11,-6,10,29,12]`\n",
    "* Le plus petit des élements restants à trier est $12$, on le place en quatrième position (index 3).\n",
    "* Que fait-on du $29$ ? Il prend la place de $12$, la liste devient donc : `[-11,-6,10,12,29]`\n",
    "* Le dernier élément est nécéssairement le plus grand, la liste est triée."
   ]
  },
  {
   "cell_type": "markdown",
   "metadata": {},
   "source": [
    "#### Exercice 1 :\n",
    "1. En indiquant les listes intermédiaires, trier la liste `[5, -27, -14, 10, 7]` par sélection\n",
    " \n",
    "    *   \n",
    "    *  \n",
    "    *  \n",
    "    *  \n",
    " \n",
    "\n",
    "2. Même exercice avec la liste `[30, 24, -7, -19, 26, 21, -18]`\n",
    "   *  \n",
    "   *  \n",
    "   *  \n",
    "   *  \n",
    "   *  "
   ]
  },
  {
   "cell_type": "markdown",
   "metadata": {},
   "source": [
    "### Complexité\n",
    "#### Exercice 2 : \n",
    "On cherche à trier la liste suivante par sélection : `[12, 31, -2, -14, 8]`\n",
    "1. Au premier parcours, la liste devient `[-14, 31, -2, 12, 8]`. Combien de comparaisons ont été nécéssaires pour identifier que $-14$ est le plus petit élement ?\n",
    "2. Au deuxième parcours la liste devient `[-14, -2, 31, 12, 8]`. Combien de comparaisons ont été nécéssaires pour identifier que $-2$ est le plus petit des éléments restant à trier ?\n",
    "3. Combien de comparaisons sont nécéssaires pour trier toute la liste ?\n",
    "4. Est-ce vrai pour toutes les listes de cinq éléments ?"
   ]
  },
  {
   "cell_type": "markdown",
   "metadata": {},
   "source": [
    "Réponse :\n",
    "\n",
    "1.  \n",
    "2.  \n",
    "3.  \n",
    "4.  \n"
   ]
  },
  {
   "cell_type": "markdown",
   "metadata": {},
   "source": [
    "#### Exercice 3 :\n",
    "1. Combien de comparaisons sont nécéssaires pour trier par sélection une liste de 7 éléments ?\n",
    "2. Et pour une liste de 10 éléments ?\n",
    "3. Et pour $n$ éléments ?"
   ]
  },
  {
   "cell_type": "markdown",
   "metadata": {},
   "source": [
    "Réponse :\n",
    " \n",
    "1.  \n",
    "2.  \n",
    "3.  "
   ]
  },
  {
   "cell_type": "markdown",
   "metadata": {},
   "source": [
    "#### A retenir\n",
    "<img style='float:right;' src='selection.png' width=400><br><br>Quelque soit le nombre d'éléments $n$ d'éléments à trier et dans tous les cas( par exemple même quand la liste est partiellement triée), le nombre de comparaisons est exactement $\\frac{n\\times(n-1)}{2}=\\frac{n^{2}-n}{2}$, c'est à dire de l'ordre de $n^2$.\n",
    "\n",
    "On dit que cet algorithme est de complexité quadratique en $\\mathcal{O}(n^2)$.\n",
    "\n",
    "Par exemple , une liste de $25000$ éléments à trier nécéssite de l'ordre de $25000^2=625000000$ comparaisons."
   ]
  },
  {
   "cell_type": "markdown",
   "metadata": {},
   "source": [
    "### Programmation"
   ]
  },
  {
   "cell_type": "markdown",
   "metadata": {},
   "source": [
    "#### Recherche du minimum et échange\n",
    "La première étape de l'algorithme est de rechercher le minimum de la liste et d'échanger sa place avec le premier élément: "
   ]
  },
  {
   "cell_type": "markdown",
   "metadata": {},
   "source": [
    "$(1)\\; L \\; est\\;une\\;liste\\\\\n",
    "(2)\\; indexmin \\leftarrow 0\\\\\n",
    "(3)\\; Pour\\; j\\; de \\;1\\;à \\; index\\;du\\;dernier\\;élément\\;de\\;L \\\\\n",
    "(4)\\; \\; \\; \\; \\;  Si\\; L[j]<L[indexmin] \\\\\n",
    "(5) \\; \\; \\; \\; \\; \\; \\; \\;\\;indexmin \\leftarrow j \\\\\n",
    "(6)\\; L[0],L[indexmin]=L[indexmin],L[0]$\n"
   ]
  },
  {
   "cell_type": "markdown",
   "metadata": {},
   "source": [
    "#### Exercice 4 :\n",
    "\n",
    "1. Que représente la variable `indexmin` ?\n",
    "2. Expliquer la ligne 6 de l'algorithme.\n",
    "3. En remplaçant les commentaires, programmer cet algorithme."
   ]
  },
  {
   "cell_type": "markdown",
   "metadata": {},
   "source": [
    "Réponses :\n",
    "1.  \n",
    "2.  "
   ]
  },
  {
   "cell_type": "code",
   "execution_count": null,
   "metadata": {},
   "outputs": [],
   "source": [
    "L=[randint(-32,32) for i in range(5)]\n",
    "print(L)\n",
    "\n",
    "#ligne2\n",
    "#ligne3\n",
    "#ligne4\n",
    "#ligne5\n",
    "#ligne6\n",
    "\n",
    "print(L)"
   ]
  },
  {
   "cell_type": "markdown",
   "metadata": {},
   "source": [
    "#### Exercice 5 :\n",
    "On suppose que le minimum de la liste est désormais le premier élément. L'étape suivante est d'identifier le plus petit élément parmi ceux restant à trier et de le placer en deuxième position.\n",
    "\n",
    "1. Recopier et modifier l'algorithme précédent en ce sens. On utilisera la liste`[-29, 24, 31, -15, 8]`. l'instruction`print(L)` doit renvoyer `[-29, -15, 31, 24, 8]`.\n",
    "2. Qu'a-t-on modifié précisement ?\n",
    "3. Que doit-on modifier pour trouver le troisième élement de la liste triée ?"
   ]
  },
  {
   "cell_type": "code",
   "execution_count": null,
   "metadata": {},
   "outputs": [],
   "source": [
    "#1\n",
    "L=[-29, 24, 31, -15, 8]\n",
    "\n",
    "#ligne2\n",
    "#ligne3\n",
    "#ligne4\n",
    "#ligne5\n",
    "\n",
    "print(L)"
   ]
  },
  {
   "cell_type": "markdown",
   "metadata": {},
   "source": [
    "2.  \n",
    "3. Pour trouver le troisième élément trié , il faut :\n",
    "   *  \n",
    "   *  \n",
    "   *  "
   ]
  },
  {
   "cell_type": "markdown",
   "metadata": {},
   "source": [
    "#### Algorithme du tri par sélection"
   ]
  },
  {
   "cell_type": "markdown",
   "metadata": {},
   "source": [
    "#### Exercice 6 :\n",
    "La fonction `tri_select(L)` prend en paramètre une liste `L` d'entiers et doit renvoyer cette liste triée par sélection.\n",
    "En vous aidant des résultats précédents, compléter cette fonction en remplaçant les `?`."
   ]
  },
  {
   "cell_type": "code",
   "execution_count": 1,
   "metadata": {},
   "outputs": [
    {
     "ename": "SyntaxError",
     "evalue": "invalid syntax (<ipython-input-1-679e15220855>, line 3)",
     "output_type": "error",
     "traceback": [
      "\u001b[1;36m  File \u001b[1;32m\"<ipython-input-1-679e15220855>\"\u001b[1;36m, line \u001b[1;32m3\u001b[0m\n\u001b[1;33m    for i in ?:\u001b[0m\n\u001b[1;37m             ^\u001b[0m\n\u001b[1;31mSyntaxError\u001b[0m\u001b[1;31m:\u001b[0m invalid syntax\n"
     ]
    }
   ],
   "source": [
    "#Algorithme de tri par sélection\n",
    "def tri_select(L):\n",
    "    for i in ?:\n",
    "        imin = ?\n",
    "        for j in range(?,len(L)):\n",
    "            if L[j]<L[imin]:\n",
    "                imin=j\n",
    "                \n",
    "        L[?],L[imin]=L[imin],L[?]\n",
    "    \n",
    "    return L\n",
    "        \n",
    "L=[randint(-32,32) for i in range(5)]\n",
    "print (L)\n",
    "print(tri_select(L))           "
   ]
  },
  {
   "cell_type": "markdown",
   "metadata": {},
   "source": [
    "Remarques :\n",
    "* On est sûr que l'algorithme s'arrête car on sort des boucles `for` une fois le parcours terminé.\n",
    "* A la fin de l'étape $i$, les $i$ premiers éléments du tableau sont triés, ce qui prouve que cet algorithme est correct (il fait ce que l'on attend de lui)"
   ]
  }
 ],
 "metadata": {
  "kernelspec": {
   "display_name": "Python 3",
   "language": "python",
   "name": "python3"
  },
  "language_info": {
   "codemirror_mode": {
    "name": "ipython",
    "version": 3
   },
   "file_extension": ".py",
   "mimetype": "text/x-python",
   "name": "python",
   "nbconvert_exporter": "python",
   "pygments_lexer": "ipython3",
   "version": "3.8.1"
  }
 },
 "nbformat": 4,
 "nbformat_minor": 2
}
