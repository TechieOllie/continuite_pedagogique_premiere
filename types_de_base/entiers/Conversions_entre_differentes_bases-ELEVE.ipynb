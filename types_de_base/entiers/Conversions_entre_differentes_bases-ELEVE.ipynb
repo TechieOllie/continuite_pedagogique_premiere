{
 "cells": [
  {
   "cell_type": "markdown",
   "metadata": {},
   "source": [
    "<div class =\"alert alert-warning\">   \n",
    "    \n",
    "    \n",
    "notebook consultable, exécutable, modifiable et téléchargeable en ligne :     \n",
    "    \n",
    "- se rendre à : https://github.com/nsi-acot/continuite_pedagogique_premiere\n",
    "- cliquer sur l'icone \"launch binder\" en bas de page\n",
    "- patienter quelques secondes que le serveur Jupyter démarre\n",
    "- naviguer dans le dossier `\"./types_de_base/entiers/\"`\n",
    "- cliquer sur le nom de ce notebook\n",
    "</div>"
   ]
  },
  {
   "cell_type": "markdown",
   "metadata": {},
   "source": [
    "# Conversion entre différentes bases.\n",
    "\n",
    "Ce document est un notebook jupyter, il permet d'avoir accès à des informations (explications, liens hypertexte, images ...) et aussi à du code Python.  \n",
    "Pour exécuter du code python, sélectionner la cellule en cliquant dessus, puis :\n",
    "  - cliquez sur Exécuter\n",
    "  - OU appuyez sur CTRL + ENTRER (ou sur SHIF + ENTRER )  \n",
    "  \n",
    "Un numéro doit apparaître entre les crochets, celui-ci correspond au numéro de l'ordre de l'éxécution du code.  \n",
    "Essayez avec les trois cellules ci-dessous.\n",
    "\n"
   ]
  },
  {
   "cell_type": "code",
   "execution_count": null,
   "metadata": {},
   "outputs": [],
   "source": [
    "a = 2\n",
    "b = 4\n",
    "c = a + b\n",
    "print(c)"
   ]
  },
  {
   "cell_type": "code",
   "execution_count": null,
   "metadata": {},
   "outputs": [],
   "source": [
    "def salutation(prenom):\n",
    "    return 'Bonjour '+str(prenom)"
   ]
  },
  {
   "cell_type": "code",
   "execution_count": null,
   "metadata": {},
   "outputs": [],
   "source": [
    "salutation('votre prenom ici')"
   ]
  },
  {
   "cell_type": "markdown",
   "metadata": {},
   "source": [
    "Vous pouvez remarquez la fonction renvoie directement un affichage, sans qu'un print ait été demandé.  \n",
    "Cela est une caractéristique propre a un notebook.  \n",
    "\n",
    "Dernière remarque :  \n",
    "Si vous double-cliquez sur une cellule de texte, celle-ci affichera le code Markdown qui sert à le mettre en page. Il suffit d'éxécuter la cellule (CTRL + ENTRER) pour que celle-ci reprenne son affichage initial."
   ]
  },
  {
   "cell_type": "markdown",
   "metadata": {},
   "source": [
    "## Conversion des entiers par python.\n",
    "\n",
    "### Quelques commandes à connaitre pour ce TP.  \n",
    "\n",
    "En Python, quelques fonctions permettent le passage d’une représentation à une autre. Tout d’abord, pour passer une représentation décimale à une représentation binaire ou hexadécimale, Python dispose des deux fonctions :\n",
    "\n",
    "  - `bin` qui reçoit un entier naturel et renvoie une chaîne de caractères associée à la représentation binaire de cet entier ; cette chaîne débute systématiquement par le préfixe 0b;\n",
    "  - `hex` qui procède de la même façon et renvoie une chaîne de caractères associée à la représentaton hexadécimale de l’entier, avec le préfixe 0x.\n",
    "\n",
    "Convertissez $(123)_{10}$ en binaire et en hexadécimal à la main, écrivez la réponse ci-dessous (double-cliquez pour passer en mode édition) :\n",
    "  - $(123)_{10}$ en binaire : \n",
    "  - $(123)_{10}$ en hexadecimal : \n",
    "  \n",
    "Testez vos réponses avec les cellules ci-dessous.\n",
    "\n"
   ]
  },
  {
   "cell_type": "code",
   "execution_count": null,
   "metadata": {},
   "outputs": [],
   "source": [
    "bin(123)"
   ]
  },
  {
   "cell_type": "code",
   "execution_count": null,
   "metadata": {},
   "outputs": [],
   "source": [
    "hex(123)"
   ]
  },
  {
   "cell_type": "markdown",
   "metadata": {},
   "source": [
    "Les opérations inverses peuvent se faire à l’aide de la fonction `int` qui reçoit deux arguments : une chaîne de caractères représentant un entier dans une base donnée et un entier représentant cette base.  \n",
    "\n",
    "Testez cela avec les cellules ci-dessous :"
   ]
  },
  {
   "cell_type": "code",
   "execution_count": null,
   "metadata": {},
   "outputs": [],
   "source": [
    "int('0b1111011', 2)"
   ]
  },
  {
   "cell_type": "code",
   "execution_count": null,
   "metadata": {},
   "outputs": [],
   "source": [
    "int('0x7b',16)"
   ]
  },
  {
   "cell_type": "markdown",
   "metadata": {},
   "source": [
    "## Conversions binaires.\n",
    "Ces fonctions python sont pratique mais un bon exercice consiste à les codes soit même !\n",
    "Dans un premier temps , nous allons nous limiter aux conversions binaires."
   ]
  },
  {
   "cell_type": "markdown",
   "metadata": {},
   "source": [
    "### Conversion de la base 2 vers la base 10\n",
    "\n",
    "Il est rappelé que si un nombre s'écrit $\\left(a_na_{n-1}a_{n-2}\\ldots a_1a_0\\right)_B$ en base $B$ cela signifie  que ce nombre vaut : $$a_{n}B^{n}+a_{n-1}B^{n-1}+a_{n-2}B^{n-2}+\\ldots + a_1B^1 + a_0B^0$$ avec $a_i$ des nombres entiers strictement inférieurs à $B$. \n",
    "\n",
    "Ci dessous, écrire le code d'une fonction base10(x) qui recoit comme paramètre x une chaine de caractère donnant l'écriture d'un nombre en base 2. La sortie sera un entier (int) qui représente le nombre converti en base 10.\n",
    "\n",
    "Vous aurez besoin de la fonction `len` qui donne la longueur d'une chaine.  \n",
    "Par exemple, len('011001') vaut 6."
   ]
  },
  {
   "cell_type": "code",
   "execution_count": null,
   "metadata": {},
   "outputs": [],
   "source": [
    "def base10(x):\n",
    "    pass"
   ]
  },
  {
   "cell_type": "code",
   "execution_count": null,
   "metadata": {},
   "outputs": [],
   "source": [
    "# Faites vos essais ici :\n",
    "base10('0110')"
   ]
  },
  {
   "cell_type": "markdown",
   "metadata": {},
   "source": [
    "Ci-dessous, vous trouverez 4 tests que votre fonction devra passer.  \n",
    "Cela ne permet pas d'assurer l'exactitude de votre fonction, mais d'éliminer les grosses erreurs."
   ]
  },
  {
   "cell_type": "code",
   "execution_count": null,
   "metadata": {},
   "outputs": [],
   "source": [
    "assert ( base10('1111011') == 123 )\n",
    "assert ( base10('101111011') == int('0b101111011',2) )\n",
    "assert ( base10('1001101') == int('0b1001101',2) )\n",
    "assert ( base10('0') == 0)"
   ]
  },
  {
   "cell_type": "markdown",
   "metadata": {},
   "source": [
    "### Conversion de la base 10 vers la base 2\n",
    "\n",
    "Nous allons procéder comme dans le cours : par divisions successives.  \n",
    "Il est rappelé que le quotient de a par b est obtenu par `a//b` et le reste par `a%b`.\n",
    "\n",
    "Ci dessous, écrire le code d'une fonction base2(x) qui recoit comme paramètre x un entier en base 10.\n",
    "La sortie sera une chaine de caractère qui représente le nombre converti en base 2.\n"
   ]
  },
  {
   "cell_type": "code",
   "execution_count": null,
   "metadata": {},
   "outputs": [],
   "source": [
    "def base2(x):\n",
    "    pass"
   ]
  },
  {
   "cell_type": "code",
   "execution_count": null,
   "metadata": {},
   "outputs": [],
   "source": [
    "# Faites vos essais ici :\n",
    "base2(7)"
   ]
  },
  {
   "cell_type": "markdown",
   "metadata": {},
   "source": [
    "Ci-dessous, vous trouverez 4 tests que votre fonction devra passer.  "
   ]
  },
  {
   "cell_type": "code",
   "execution_count": null,
   "metadata": {},
   "outputs": [],
   "source": [
    "assert( base2(5) == '101')\n",
    "assert( base2(16) == '10000')\n",
    "assert( '0b'+base2(123456789) == bin(123456789))\n",
    "assert( '0b'+base2(553727) == bin(553727))"
   ]
  },
  {
   "cell_type": "markdown",
   "metadata": {},
   "source": [
    "## Conversions hexadecimales.\n",
    "\n",
    "C'est un peu plus délicat car il faut ajouter des symboles non numériques (A,B, ... , F)\n",
    "\n",
    "La construction de la chaîne de caractères requiert une opération supplémentaire consistant à associer à chaque entier\n",
    "compris entre 0 et 15 un chiffre hexadécimal. Nous proposons de définir une première fonction qui renvoie un dictionnaire réalisant cette conversion décimal -> hexadécimal."
   ]
  },
  {
   "cell_type": "code",
   "execution_count": null,
   "metadata": {},
   "outputs": [],
   "source": [
    "def dic_hex_to_dec():\n",
    "    s = '0123456789ABCDEF'\n",
    "    dic = {}\n",
    "    for i in range(16):\n",
    "        dic[s[i]] = i\n",
    "    return dic\n",
    "\n",
    "dic = dic_hex_to_dec()"
   ]
  },
  {
   "cell_type": "markdown",
   "metadata": {},
   "source": [
    "Testez le dictionnaire dic en appellant dic['0'] ou dic['A'] ci-dessous"
   ]
  },
  {
   "cell_type": "code",
   "execution_count": null,
   "metadata": {},
   "outputs": [],
   "source": [
    "dic['B']"
   ]
  },
  {
   "cell_type": "markdown",
   "metadata": {},
   "source": [
    "Ci dessous, écrire le code d'une fonction hex_to_dec(chaine_hex) qui recoit comme paramètre chaine_hex une chaine de caractère donnant l'écriture d'un nombre en base 16. La sortie sera un entier (int) qui représente le nombre converti en base 10."
   ]
  },
  {
   "cell_type": "code",
   "execution_count": null,
   "metadata": {},
   "outputs": [],
   "source": [
    "def hex_to_dec(chaine_hex):\n",
    "    dic = dic_hex_to_dec()\n",
    "    pass"
   ]
  },
  {
   "cell_type": "code",
   "execution_count": null,
   "metadata": {},
   "outputs": [],
   "source": [
    "# Faites vos essais ici :\n",
    "hex_to_dec('B')"
   ]
  },
  {
   "cell_type": "code",
   "execution_count": null,
   "metadata": {},
   "outputs": [],
   "source": [
    "assert(hex_to_dec('A') == 10)\n",
    "assert(hex_to_dec('ACDC') == 44252)\n",
    "assert(hex_to_dec('BB8') == 3000)"
   ]
  },
  {
   "cell_type": "markdown",
   "metadata": {},
   "source": [
    "Ci dessous, écrire le code d'une fonction dec_to_hex(n) qui recoit comme paramètre n un entier en base 10 . La sortie sera une chaine de caractère qui représente le nombre converti en base 16."
   ]
  },
  {
   "cell_type": "code",
   "execution_count": null,
   "metadata": {},
   "outputs": [],
   "source": [
    "def dec_to_hex(n):\n",
    "    s = '0123456789ABCDEF'\n",
    "    pass"
   ]
  },
  {
   "cell_type": "code",
   "execution_count": null,
   "metadata": {},
   "outputs": [],
   "source": [
    "# Faites vos essais ici :\n",
    "dec_to_hex(12)"
   ]
  },
  {
   "cell_type": "code",
   "execution_count": null,
   "metadata": {},
   "outputs": [],
   "source": [
    "assert( dec_to_hex(10) == 'A' )\n",
    "assert( dec_to_hex(44252) == 'ACDC' )\n",
    "assert( dec_to_hex(3000) == 'BB8' )"
   ]
  },
  {
   "cell_type": "markdown",
   "metadata": {},
   "source": [
    "## Conversions en base B. (B compris en 2 et 10)\n",
    "Pour terminer, adaptez vos fonctions base10 et base2 pour quelles fonctionne pour n'importe quelle base B."
   ]
  },
  {
   "cell_type": "code",
   "execution_count": null,
   "metadata": {},
   "outputs": [],
   "source": [
    "def base10_v2(x,B):\n",
    "    pass"
   ]
  },
  {
   "cell_type": "code",
   "execution_count": null,
   "metadata": {},
   "outputs": [],
   "source": [
    "def baseB(x):\n",
    "    pass"
   ]
  }
 ],
 "metadata": {
  "kernelspec": {
   "display_name": "Python 3",
   "language": "python",
   "name": "python3"
  },
  "language_info": {
   "codemirror_mode": {
    "name": "ipython",
    "version": 3
   },
   "file_extension": ".py",
   "mimetype": "text/x-python",
   "name": "python",
   "nbconvert_exporter": "python",
   "pygments_lexer": "ipython3",
   "version": "3.8.1"
  }
 },
 "nbformat": 4,
 "nbformat_minor": 4
}
