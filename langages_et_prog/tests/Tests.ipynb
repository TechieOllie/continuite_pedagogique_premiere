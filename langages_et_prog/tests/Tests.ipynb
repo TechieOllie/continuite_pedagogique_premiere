{
 "cells": [
  {
   "cell_type": "markdown",
   "metadata": {},
   "source": [
    "<div class =\"alert alert-warning\">   \n",
    "    \n",
    "    \n",
    "notebook consultable, exécutable, modifiable et téléchargeable en ligne :     \n",
    "    \n",
    "\t\n",
    "- se rendre à : https://github.com/nsi-acot/continuite_pedagogique_premiere\n",
    "- cliquer sur l'icone \"launch binder\" en bas de page\n",
    "- patienter quelques secondes que le serveur Jupyter démarre\n",
    "- naviguer dans le dossier `\"./langages_et_prog/tests/\"`\n",
    "- cliquer sur le nom de ce notebook\n",
    "</div>\n"
   ]
  },
  {
   "cell_type": "markdown",
   "metadata": {},
   "source": [
    "# TD sur les tests \n"
   ]
  },
  {
   "cell_type": "markdown",
   "metadata": {},
   "source": [
    "### Exercice 1\n",
    "* Compléter le code de la fonction donnée afin que le résultat corresponde à ce qui est notifié dans la documentation.\n",
    "* Compléter la ligne qui génére un test et assurer vous que tout fonctionne normalement"
   ]
  },
  {
   "cell_type": "code",
   "execution_count": null,
   "metadata": {},
   "outputs": [],
   "source": [
    "def plusgrand(a,b):\n",
    "    \"\"\"\n",
    "    La fonction plusgrand renvoie le plus grand des deux entiers a et b\n",
    "    \"\"\"\n",
    "    pass\n",
    "\n",
    "assert(plusgrand(3,5) #To Do)"
   ]
  },
  {
   "cell_type": "markdown",
   "metadata": {},
   "source": [
    "* Ajouter une ligne de code qui teste que les paramètres entrés sont bien des entiers"
   ]
  },
  {
   "cell_type": "code",
   "execution_count": null,
   "metadata": {},
   "outputs": [],
   "source": [
    "def plusgrand(a,b):\n",
    "    \"\"\"\n",
    "    La fonction plusgrand renvoie le plus grand des deux entiers a et b\n",
    "    \"\"\"\n",
    "    assert(type(#ToDo))\n",
    "    pass\n",
    "\n",
    "assert(plusgrand(3,5) #To Do)"
   ]
  },
  {
   "cell_type": "markdown",
   "metadata": {},
   "source": [
    "## Exercice 2\n",
    "\n",
    "* On dispose d'une fonction qui permet d'effectuer les opérations de base avec les valeurs qu'on lui passe en paramètre\n",
    "* Ecrire une série de tests avec des paramètres étant tour à tour des entiers, des flottants, des listes , des chaines de caractères."
   ]
  },
  {
   "cell_type": "code",
   "execution_count": 24,
   "metadata": {},
   "outputs": [],
   "source": [
    "def operation(op,a,b):\n",
    "      \"\"\"\n",
    "      Paramètres : op  prend les valeurs : +,-,*,//, que l'on rentre sous forme de chaine de caractère :'+'\n",
    "                  : a et b peuvent être entiers, flottant et avec l'addition chaines de caractères, liste\n",
    "      Retour : Renvoie le résultat de l'opération   \n",
    "      Remarque : // correspond à la division entière.\n",
    "      \"\"\"\n",
    "        \n",
    "      if op == '+':\n",
    "            return a+b\n",
    "      if op == '-':\n",
    "            return a-b\n",
    "      if op == '//':\n",
    "            return a//b\n",
    "      if  op == '*':\n",
    "            return a*b\n",
    "assert(operation('+',5,8)== 13)\n",
    "assert(operation ('//',5,3)== 1)\n",
    "# Ecrire ici 4 autres tests dont un sur une addition de liste \n",
    "# et un sur une multiplication d'une liste par un entier\n"
   ]
  },
  {
   "cell_type": "markdown",
   "metadata": {},
   "source": [
    "## Exercice 3\n",
    "\n",
    "* Compléter les tests dans la fonction factorielle . \n",
    "* On uilisera le module doctest comme présenté dans le cours\n"
   ]
  },
  {
   "cell_type": "code",
   "execution_count": 35,
   "metadata": {},
   "outputs": [
    {
     "name": "stdout",
     "output_type": "stream",
     "text": [
      "3 items had no tests:\n",
      "    __main__\n",
      "    __main__.fact\n",
      "    __main__.operation\n",
      "0 tests in 3 items.\n",
      "0 passed and 0 failed.\n",
      "Test passed.\n"
     ]
    }
   ],
   "source": [
    "\n",
    "def fact (n):\n",
    "    \"\"\"\n",
    "    Fonction qui calcule le factoriel d'un entier n passé en paramètre\n",
    "    Tests :\n",
    "    >>> \n",
    "   \n",
    "    >>>\n",
    "     \n",
    "     \n",
    "    >>>\n",
    "     \n",
    "    >>>\n",
    "\n",
    "    \n",
    "    \"\"\"\n",
    "    if n == 0:\n",
    "        return 1\n",
    "    else :\n",
    "        res =1\n",
    "        for i in range(1,n+1):\n",
    "            res = res*i\n",
    "    return res\n",
    "if __name__ ==\"__main__\" :\n",
    "    import doctest\n",
    "    doctest.testmod(verbose = True)"
   ]
  },
  {
   "cell_type": "code",
   "execution_count": null,
   "metadata": {},
   "outputs": [],
   "source": []
  }
 ],
 "metadata": {
  "kernelspec": {
   "display_name": "Python 3",
   "language": "python",
   "name": "python3"
  },
  "language_info": {
   "codemirror_mode": {
    "name": "ipython",
    "version": 3
   },
   "file_extension": ".py",
   "mimetype": "text/x-python",
   "name": "python",
   "nbconvert_exporter": "python",
   "pygments_lexer": "ipython3",
   "version": "3.8.1"
  }
 },
 "nbformat": 4,
 "nbformat_minor": 2
}
