{
 "cells": [
  {
   "cell_type": "markdown",
   "metadata": {},
   "source": [
    "# Aéroports du monde\n",
    "\n",
    "\n",
    "En prenant pour prétexte un fichier de données recensant un très grands nombre d'aéroports, nous allons travailler les méthodes vues en cours pour : \n",
    "- importer un fichier csv\n",
    "- sélectionner des données\n",
    "- trier des données\n",
    "\n",
    "Pour fonctionner, ce notebook doit être dans le même répertoire (ou dossier) que le dossier `./airports/` qui contient deux fichiers CSV : `./airports/airports.csv` et `./airports/countries.csv`"
   ]
  },
  {
   "cell_type": "markdown",
   "metadata": {},
   "source": [
    "# 1) Pour commencer : fichier que nous allons exploiter"
   ]
  },
  {
   "cell_type": "code",
   "execution_count": null,
   "metadata": {},
   "outputs": [],
   "source": [
    "import csv\n",
    "\n",
    "def charger_fichier( nom_fic ):\n",
    "    \"\"\"\n",
    "    Permet de lire un fichier CSV en utilisant la ligne d'entêtes\n",
    "    Retourne une liste de dictionnaires.\n",
    "    \"\"\"\n",
    "    table = []\n",
    "    fichier_csv = open( nom_fic , \"r\", newline =\"\", encoding =\"utf-8\" )\n",
    "    lecteur_fichier = csv.DictReader( fichier_csv , delimiter =\",\")    \n",
    "    for enreg in lecteur_fichier :\n",
    "        table.append (dict ( enreg )) # enreg est de type OrderedDict on le remet endict\n",
    "    fichier_csv.close()    \n",
    "    return table"
   ]
  },
  {
   "cell_type": "code",
   "execution_count": null,
   "metadata": {},
   "outputs": [],
   "source": [
    "table_aeroports = charger_fichier('./airports/airports.csv')"
   ]
  },
  {
   "cell_type": "code",
   "execution_count": null,
   "metadata": {},
   "outputs": [],
   "source": [
    "table_aeroports[0]"
   ]
  },
  {
   "cell_type": "markdown",
   "metadata": {},
   "source": [
    "<div class = \"alert alert-info\">  \n",
    "\n",
    "\n",
    "**Question**  \n",
    "\n",
    "\n",
    "Exécuter les trois cellules de code ci-dessus : \n",
    "    \n",
    "- Quel est l'encodage du fichier CSV utilisé ?\n",
    "\n",
    "- Quel est le séparateur du fichier CSV utilisé ?\n",
    "    \n",
    "- Quel est le nom de variable de la table qui a été créée dans python ?\n",
    "    \n",
    "- Combien de champs (ou colonnes) comporte cette table ? Quels sont les descripteurs ?\n",
    "    "
   ]
  },
  {
   "cell_type": "markdown",
   "metadata": {},
   "source": [
    "<div class = \"alert alert-info\">  \n",
    "\n",
    "\n",
    "**Question**  \n",
    "\n",
    "En exécutant une instruction bien choisie, déterminer combien d'enregistrements (c-à-d de lignes) contient cette table ?"
   ]
  },
  {
   "cell_type": "code",
   "execution_count": null,
   "metadata": {},
   "outputs": [],
   "source": [
    "#à compléter pour répondre"
   ]
  },
  {
   "cell_type": "markdown",
   "metadata": {},
   "source": [
    "<div class = \"alert alert-info\">  \n",
    "\n",
    "\n",
    "**Question**  \n",
    "- Afficher tout l'enregistrement d'indice 1111 de cette table. \n",
    "\n",
    "\n",
    "- Quel est le code du pays de cet aéroport ? D'après vous à quel pays cela correspond-il ?\n",
    "    \n",
    "\n",
    "- Quelle est son altitude (attention elle est exprimée en pieds)?"
   ]
  },
  {
   "cell_type": "code",
   "execution_count": null,
   "metadata": {},
   "outputs": [],
   "source": [
    "#à compléter pour répondre"
   ]
  },
  {
   "cell_type": "markdown",
   "metadata": {},
   "source": [
    "<div class = \"alert alert-info\">  \n",
    "\n",
    "\n",
    "**Question**  \n",
    "\n",
    "Afficher uniquement le nom de l'aéroport de l'enregistrement d'indice 1234 de cette table."
   ]
  },
  {
   "cell_type": "code",
   "execution_count": null,
   "metadata": {},
   "outputs": [],
   "source": [
    "#à compléter pour répondre"
   ]
  },
  {
   "cell_type": "markdown",
   "metadata": {},
   "source": [
    "<div class = \"alert alert-danger\">\n",
    "\n",
    "\n",
    "## MISE EN GARDE N°1\n",
    "\n",
    "Rappelez vous que les valeurs de tous les champs sont de type `str` et qu'il faut les convertir en `float` ou en `int` si besoin (et le besoin sera très souvent là).  \n",
    "    \n",
    "\n",
    "## MISE EN GARDE N°2\n",
    "\n",
    "On appellera **table** une `list` de `dict` python (c'est à dire un tableau de p-uplets nommés en langage \"algorithmique\")."
   ]
  },
  {
   "cell_type": "markdown",
   "metadata": {},
   "source": [
    "# 2) rechercher des données"
   ]
  },
  {
   "cell_type": "markdown",
   "metadata": {},
   "source": [
    "<div class = \"alert alert-info\">  \n",
    "\n",
    "\n",
    "**Question**  \n",
    "\n",
    "En une seule instruction, à partir de la table `table_aeroports`, creer la liste `liste_des_types` des types de tous les aéroports figurant dans la table (un même type pourra figurer plusieurs fois dans la liste)."
   ]
  },
  {
   "cell_type": "code",
   "execution_count": null,
   "metadata": {},
   "outputs": [],
   "source": [
    "#à compléter pour répondre"
   ]
  },
  {
   "cell_type": "markdown",
   "metadata": {},
   "source": [
    "<div class = \"alert alert-info\">  \n",
    "    \n",
    "    \n",
    "**Question**  \n",
    "Les types d'aéroports apparaissent plusieurs fois dans cette liste. Ce qui est gênant.  \n",
    "Compléter la fonction `enlever_doublons_liste` qui prend en argument une liste `avec_doublons` et renvoie une autre liste `sans_doublons` dont les éléments sont les éléments de `avec_doublons` mais présents une seule fois (et en conservant l'ordre des indices de première apparition de gauche à droite).  \n",
    "Quelques assertions que devra satisfaire votre fonction sont données plus bas"
   ]
  },
  {
   "cell_type": "code",
   "execution_count": null,
   "metadata": {},
   "outputs": [],
   "source": [
    "def enlever_doublons_liste(avec_doublons):\n",
    "    sans_doublons = []\n",
    "    for element in avec_doublons:\n",
    "        #à compléter pour répondre\n",
    "        \n",
    "        \n",
    "        \n",
    "    return sans_doublons"
   ]
  },
  {
   "cell_type": "code",
   "execution_count": null,
   "metadata": {},
   "outputs": [],
   "source": [
    "assert enlever_doublons_liste(['a', 'c', 'b', 'a', 'a', 'z', 'k', 'b']) == ['a', 'c', 'b', 'z', 'k']\n",
    "assert enlever_doublons_liste([10, 9, 10, 10, -99, 99, -99]) == [10, 9, -99, 99]"
   ]
  },
  {
   "cell_type": "code",
   "execution_count": null,
   "metadata": {},
   "outputs": [],
   "source": [
    "liste_des_types = enlever_doublons_liste(liste_des_types)\n",
    "liste_des_types"
   ]
  },
  {
   "cell_type": "markdown",
   "metadata": {},
   "source": [
    "<div class = \"alert alert-info\">  \n",
    "\n",
    "\n",
    "**Question**  \n",
    "\n",
    "En une seule instruction, à partir de la table `table_aeroports`, créer la **table** `table_large_airports` de tous les aéroports de type `large_airport`.\n",
    "    \n",
    "    \n",
    "Combien y'en a-t-il ?"
   ]
  },
  {
   "cell_type": "code",
   "execution_count": null,
   "metadata": {},
   "outputs": [],
   "source": [
    "#à compléter pour répondre"
   ]
  },
  {
   "cell_type": "markdown",
   "metadata": {},
   "source": [
    "<div class = \"alert alert-info\">  \n",
    "\n",
    "\n",
    "**Question**  \n",
    "\n",
    "En une seule instruction, à partir de la table `table_aeroports`, créer la **table** `table_large_airports_FR` de tous les aéroports de type `large_airport` situés en France (`Country_Code` égal à `FR`).\n",
    "    \n",
    "    \n",
    "Combien y'en a-t-il ? Quels sont leurs noms ?"
   ]
  },
  {
   "cell_type": "code",
   "execution_count": null,
   "metadata": {},
   "outputs": [],
   "source": [
    "#à compléter pour répondre"
   ]
  },
  {
   "cell_type": "markdown",
   "metadata": {},
   "source": [
    "# 3) trier des données"
   ]
  },
  {
   "cell_type": "markdown",
   "metadata": {},
   "source": [
    "<div class = \"alert alert-info\">  \n",
    "\n",
    "\n",
    "**Question**  \n",
    "\n",
    "Créer la table `table_alt_decroissantes` des aéroports triés par ordre décroissant d'altitude.\n",
    "    \n",
    "Penser à faire une fonction clef de tri auparavant \n",
    "    \n",
    "**Attention aux conversions de type, sinon vous allez trier par ordre alphabétique au lieu de trier par ordre numérique. Voir Mise en garde n°1 au début du notebook**"
   ]
  },
  {
   "cell_type": "code",
   "execution_count": null,
   "metadata": {},
   "outputs": [],
   "source": [
    "#à compléter pour répondre"
   ]
  },
  {
   "cell_type": "markdown",
   "metadata": {},
   "source": [
    "<div class = \"alert alert-info\">  \n",
    "\n",
    "\n",
    "**Question**  \n",
    "\n",
    "Créer la liste des `Country_Code` des 20 aéroports les plus hauts.  \n",
    "    \n",
    "Quel pays est le plus présent dans cette liste (ou quel code de pays si vous ne maîtrisez pas les codes de pays) ?"
   ]
  },
  {
   "cell_type": "code",
   "execution_count": null,
   "metadata": {},
   "outputs": [],
   "source": [
    "#à compléter pour répondre"
   ]
  },
  {
   "cell_type": "markdown",
   "metadata": {},
   "source": [
    "<div class = \"alert alert-info\">  \n",
    "\n",
    "\n",
    "**Question**  \n",
    "\n",
    "Créer la table `table_triee_par_lieu` des aéroports triés par ordre alphabétique de `City` croissant puis par ordre alphabétique de `Country_Code` croissant.  \n",
    "\n",
    "Quel est le nom de l'aéroport situé à l'indice 5555 de cette table triée ?"
   ]
  },
  {
   "cell_type": "code",
   "execution_count": null,
   "metadata": {},
   "outputs": [],
   "source": [
    "#à compléter pour répondre"
   ]
  }
 ],
 "metadata": {
  "kernelspec": {
   "display_name": "Python 3",
   "language": "python",
   "name": "python3"
  },
  "language_info": {
   "codemirror_mode": {
    "name": "ipython",
    "version": 3
   },
   "file_extension": ".py",
   "mimetype": "text/x-python",
   "name": "python",
   "nbconvert_exporter": "python",
   "pygments_lexer": "ipython3",
   "version": "3.8.1"
  }
 },
 "nbformat": 4,
 "nbformat_minor": 4
}
