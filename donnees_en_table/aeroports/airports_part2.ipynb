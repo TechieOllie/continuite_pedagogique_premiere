{
 "cells": [
  {
   "cell_type": "markdown",
   "metadata": {},
   "source": [
    "# Aéroports du monde\n",
    "\n",
    "\n",
    "En prenant pour prétexte un fichier de données recensant un très grands nombre d'aéroports, nous allons travailler les méthodes vues en cours pour : \n",
    "- importer un fichier csv\n",
    "- sélectionner des données\n",
    "- fusionner des données\n",
    "\n",
    "L'objectif est d'obtenir une carte mondiale des aéroports.\n",
    "\n",
    "Pour fonctionner, ce notebook doit être dans le même répertoire (ou dossier) que le dossier `./airports/` qui contient deux fichiers CSV : `./airports/airports.csv` et `./airports/countries.csv`\n",
    "\n",
    "Il est conseillé d'avoir fait le notebook part1 avant de traiter ce notebook."
   ]
  },
  {
   "cell_type": "markdown",
   "metadata": {},
   "source": [
    "# Pour commencer : fichier que nous allons exploiter\n",
    "\n",
    "C'est la même chose que dans le notebook part 1 on va disposer d'une table des aéroports, c'est à dire une liste de dictionnaires."
   ]
  },
  {
   "cell_type": "code",
   "execution_count": null,
   "metadata": {},
   "outputs": [],
   "source": [
    "import csv\n",
    "\n",
    "def charger_fichier( nom_fic ):\n",
    "    \"\"\"\n",
    "    Permet de lire un fichier CSV en utilisant la ligne d'entêtes\n",
    "    Retourne une liste de dictionnaires.\n",
    "    \"\"\"\n",
    "    table = []\n",
    "    fichier_csv = open( nom_fic , \"r\", newline =\"\", encoding =\"utf-8\" )\n",
    "    lecteur_fichier = csv.DictReader( fichier_csv , delimiter =\",\")    \n",
    "    for enreg in lecteur_fichier :\n",
    "        table.append (dict ( enreg )) # enreg est de type OrderedDict on le remet endict\n",
    "    fichier_csv.close()    \n",
    "    return table"
   ]
  },
  {
   "cell_type": "code",
   "execution_count": null,
   "metadata": {},
   "outputs": [],
   "source": [
    "table_aeroports = charger_fichier('./airports/airports.csv')"
   ]
  },
  {
   "cell_type": "code",
   "execution_count": null,
   "metadata": {},
   "outputs": [],
   "source": [
    "table_aeroports[0]"
   ]
  },
  {
   "cell_type": "markdown",
   "metadata": {},
   "source": [
    "<div class = \"alert alert-danger\">\n",
    "\n",
    "\n",
    "### MISES EN GARDE\n",
    "\n",
    "Rappelez vous que les valeurs de tous les champs sont de type `str` et qu'il faut les convertir en `float` ou en `int` si besoin (et le besoin sera très souvent là).  \n",
    "\n",
    "On appellera **table** une `list` de `dict` python (c'est à dire un tableau de p-uplets nommés en langage \"algorithmique\")."
   ]
  },
  {
   "cell_type": "markdown",
   "metadata": {},
   "source": [
    "# Créer des cartes facilement avec `folium`"
   ]
  },
  {
   "cell_type": "markdown",
   "metadata": {},
   "source": [
    "<div class = \"alert alert-info\">  \n",
    "\n",
    "\n",
    "**Question**  \n",
    "\n",
    "Exécuter la cellule de code ci-dessous sans chercher à lire le code."
   ]
  },
  {
   "cell_type": "code",
   "execution_count": null,
   "metadata": {},
   "outputs": [],
   "source": [
    "import folium\n",
    "import math\n",
    "import random\n",
    "\n",
    "def mystere(dictionnaire):\n",
    "    ''' \n",
    "    Etant donné un dictionnaire passé en argument retourne une chaîne de caractères \n",
    "    dont la spécification est l'objet d'une question de l'énoncé\n",
    "    '''\n",
    "    code = \"<p> <style> table, tr, td {border: 1px solid pink;} </style> <table>\"\n",
    "    for cle, valeur in dictionnaire.items():\n",
    "        code = code + (\"<tr><td>\" + cle + \"</td>\" + \"<td>\" + valeur + \"</td></tr>\")\n",
    "    code = code + \"</table></p>\"\n",
    "    return code\n",
    "\n",
    "def generer_popup(dictionnaire):\n",
    "    contenu_de_la_popup = mystere(dictionnaire)\n",
    "    iframe = folium.IFrame(html = contenu_de_la_popup, width = 300, height = 200)\n",
    "    popup = folium.Popup(iframe, max_width = 500)\n",
    "    return popup\n",
    "\n",
    "def ajouter_marqueur(carte, latitude, longitude, dictionnaire, couleur):\n",
    "    '''\n",
    "    carte : de type folium.Map\n",
    "    latitude et longitude : de type float\n",
    "    dictionnaire : de type dict avec clées et valeurs de type str\n",
    "    couleur : au format '#RRGGBB' où RR, GG, BB sont des entiers entre 0 et 255 en hexadécimal\n",
    "              représentant les composant Rouge, Verte et Bleue de la couleur\n",
    "    '''\n",
    "    radius = 4\n",
    "    folium.CircleMarker(\n",
    "        location = [latitude, longitude],\n",
    "        radius = radius,\n",
    "        popup = generer_popup(dictionnaire),\n",
    "        color = couleur,\n",
    "        fill = True\n",
    "    ).add_to(carte)\n"
   ]
  },
  {
   "cell_type": "markdown",
   "metadata": {},
   "source": [
    "Nous allons utiliser le module `folium` qui permet de générer des cartes géographiques interactives (zoomables) avec des marqueurs légendés (cliquables). Lorsqu'on cherche à générer une carte avec ce module le processus de conception est le suivant, qui se déroule en trois étapes :\n",
    "\n",
    "- Créer une \"carte\" (de type `folium.Map`)\n",
    "- Ajouter des \"marqueurs\" sur la \"carte\n",
    "    - En spécifiant latitude et longitude\n",
    "    - En spécifiant les informations que l'on souhaite voir apparaitre lors d'un clic sur le marqueur\n",
    "    - En spécifiant d'autres paramètres tels que la couleur du marqueur\n",
    "- Obtenir la carte en demandant sa représentation"
   ]
  },
  {
   "cell_type": "markdown",
   "metadata": {},
   "source": [
    "La fonction `ajouter_marqueur` permet de gérer l'étape 2 (pour un seul marqueur) et prend en paramètres :\n",
    "- une latitude (de type `float`)\n",
    "- une longitude (de type `float`)\n",
    "- une légende sous forme de dictionnaire (clés et valeurs de type `str`)\n",
    "- une couleur `\"#RRGGBB\"` où `RR`,`GG` et `BB` représentent les composantes rouge, verte et bleue en hexadécimal (entre `00` et `FF`)\n",
    "\n",
    "Elle permet d'ajouter un marqueur ayant la légende donnée, au point de coordonnées données, sur une folium.Map."
   ]
  },
  {
   "cell_type": "code",
   "execution_count": null,
   "metadata": {},
   "outputs": [],
   "source": [
    "#étape 1 : création de la carte  \n",
    "ma_carte = folium.Map(location=(47.5, 1), zoom_start=7)\n",
    "\n",
    "#étape 2 : ajout de quatre marqueurs\n",
    "ajouter_marqueur(ma_carte, 47.90, 1.90, {'Ville' : 'ORLEANS',    'Pop.' : '114644'}, \"#FF0000\")\n",
    "ajouter_marqueur(ma_carte, 47.39, 0.68, {'Ville' : 'TOURS',      'Pop.' : '136252'}, \"#880000\")\n",
    "ajouter_marqueur(ma_carte, 48.73, 1.36, {'Ville' : 'DREUX',      'Pop.' : '30836'},  \"#00FFFF\")\n",
    "ajouter_marqueur(ma_carte, 46.81, 1.69, {'Ville' : 'CHATEAUROUX','Pop.' : '43732'},  \"#88BB88\")\n",
    "\n",
    "#étape 3 : affichage de la carte\n",
    "ma_carte"
   ]
  },
  {
   "cell_type": "markdown",
   "metadata": {},
   "source": [
    "<div class = \"alert alert-info\">  \n",
    "\n",
    "\n",
    "**Question**  \n",
    "\n",
    "Exécuter la cellule de code ci-dessus."
   ]
  },
  {
   "cell_type": "markdown",
   "metadata": {},
   "source": [
    "<div class = \"alert alert-info\">  \n",
    "\n",
    "\n",
    "**Question**  \n",
    "\n",
    "Modifier le code ci-dessus afin d'ajouter un marqueur pour la ville de Blois de couleur jaune (latitude : 47.58, longitude : 1.33, population : 45710)."
   ]
  },
  {
   "cell_type": "markdown",
   "metadata": {},
   "source": [
    "<div class = \"alert alert-danger\">  \n",
    "\n",
    "\n",
    "# Avant d'aller plus loin : Synthèse\n",
    "    \n",
    "Nus avons vu comment accéder au fichier des aéroports et comment enrichir une carte avec des marqueurs. Nous allons désormais chercher à créer une carte avec les aéroports de la façon suivante :\n",
    "    \n",
    "- La couleur du marqueur dépendra de l'altitude de l'aéroport (attention dans le fichier elle est exprimée en pieds):\n",
    "    - entre 0 et 40 mètres : bleu\n",
    "    - entre 40 et 500 mètres : vert\n",
    "    - entre 500 et 1000 mètres : jaune\n",
    "    - entre 1000 et 1500 mètres : rouge\n",
    "    - au delà de 1500 mètres d'altitude : noir (équivalent : entre 1500 et 99999 mètres d'altitude)\n",
    "    \n",
    "    \n",
    "- La fenêtre pop-up contiendra les informations suivantes :\n",
    "    - code IATA de l'aéroport\n",
    "    - nom de l'aéroport\n",
    "    - nom de la ville\n",
    "    - code du pays\n",
    "     \n",
    "    \n",
    "Pour cela nous allons pour chacune des cinq plages d'altitude :\n",
    "- Créer une nouvelle table ne comportant que les aéroports ayant une altitude dans cette plage,\n",
    "- Pour chacun des aéroports de cette nouvelle table :\n",
    "    - Créer un dictionnaire ne comportant que les quatre paires clé-valeur à indiquer dans la pop-up\n",
    "    - Utiliser la fonction `ajouter_marqueur` pour placer l'aéroport correspondant sur la carte\n",
    "\n",
    "Bien entendu nous allons travailler avec des fonctions."
   ]
  },
  {
   "cell_type": "markdown",
   "metadata": {},
   "source": [
    "# 1) Quelques fonctions à créer"
   ]
  },
  {
   "cell_type": "code",
   "execution_count": null,
   "metadata": {},
   "outputs": [],
   "source": [
    "table_aeroports = charger_fichier('./airports/airports.csv')"
   ]
  },
  {
   "cell_type": "markdown",
   "metadata": {},
   "source": [
    "<div class = \"alert alert-info\">  \n",
    "\n",
    "\n",
    "**Question**  \n",
    "\n",
    "Compléter la fonction `extraire_aeroports_dans_plage` qui prend en paramètres :\n",
    "- une table d'aéroprts `table` comportant un champ `Altitude` exprimée en **pieds**,\n",
    "- une altitude minimale `alt_min` exprimée en **mètres**,\n",
    "- une altitude maximale `alt_max` exprimée en **mètres**,\n",
    "    \n",
    "et renvoie une table comportant tous les aéroports ayant une altitude comprise entre `alt_min` (compris) et `alt_max` (non compris)\n",
    "    \n",
    "\n",
    "**Remarque :** 1 pied = 0,3048 mètre, à utiliser pour convertir en mètres l'altitude des aéroports.\n",
    "   "
   ]
  },
  {
   "cell_type": "code",
   "execution_count": null,
   "metadata": {},
   "outputs": [],
   "source": [
    "def extraire_aeroports_dans_plage(table, alt_min, alt_max):\n",
    "    #à compléter pour répondre\n",
    "    return table_extraite"
   ]
  },
  {
   "cell_type": "code",
   "execution_count": null,
   "metadata": {},
   "outputs": [],
   "source": [
    "extraire_aeroports_dans_plage(table_aeroports, 3000, 3500)"
   ]
  },
  {
   "cell_type": "markdown",
   "metadata": {},
   "source": [
    "<div class = \"alert alert-info\">  \n",
    "\n",
    "\n",
    "**Question**  \n",
    "\n",
    "Compléter la fonction `creer_dict_popup` qui prend en paramètre :\n",
    "    \n",
    "- un dictionnaire `aeroport` contenant les neuf champs `Airport ID`, `Name`, `City etc.` , \n",
    "    \n",
    "et renvoie un dictionnaire ne comportant que les quatre champs à afficher dans la pop_up : `Name`, `City`, `Country_Code`, `IATA` .\n",
    "    \n",
    "Votre fonction devra vérifier l'assertion ci-dessous."
   ]
  },
  {
   "cell_type": "code",
   "execution_count": null,
   "metadata": {},
   "outputs": [],
   "source": [
    "def creer_dict_popup(aeroport):\n",
    "    #à compléter pour répondre\n",
    "    \n",
    "    return dico_extrait"
   ]
  },
  {
   "cell_type": "code",
   "execution_count": null,
   "metadata": {},
   "outputs": [],
   "source": [
    "assert(creer_dict_popup({'Airport_ID': '333096',\n",
    "                          'Name': 'Qilian Airport',\n",
    "                          'Type': 'medium_airport',\n",
    "                          'City': 'Qilian',\n",
    "                          'Country_Code': 'CN',\n",
    "                          'IATA': 'HBQ',\n",
    "                          'Latitude': '38.012',\n",
    "                          'Longitude': '100.644',\n",
    "                          'Altitude': '10377'}) \n",
    "                           ==\n",
    "                         {\n",
    "                           'Name': 'Qilian Airport',\n",
    "                           'City': 'Qilian',\n",
    "                           'Country_Code': 'CN',\n",
    "                           'IATA': 'HBQ' \n",
    "                         }\n",
    "                       )"
   ]
  },
  {
   "cell_type": "markdown",
   "metadata": {},
   "source": [
    "<div class = \"alert alert-info\">  \n",
    "\n",
    "\n",
    "**Question**  \n",
    "\n",
    "Compléter les fonctions `donner_latitude` et `donner_longitude` qui prennent en paramètre :\n",
    "    \n",
    "- un dictionnaire `aeroport` contenant les neuf champs `Airport ID`, `Name`, `City etc.` , \n",
    "    \n",
    "et renvoient respectivement la latitude et la longitude de l'aéroport sous forme d'un flottant de type `float`.\n",
    "    \n",
    "    \n",
    "Votre fonction devra vérifier l'assertion ci-dessous."
   ]
  },
  {
   "cell_type": "code",
   "execution_count": null,
   "metadata": {},
   "outputs": [],
   "source": [
    "def donner_latitude(aeroport):\n",
    "    #à compléter\n",
    "    return latitude\n",
    "\n",
    "\n",
    "def donner_longitude(aeroport):\n",
    "    #à compléter\n",
    "    return longitude"
   ]
  },
  {
   "cell_type": "code",
   "execution_count": null,
   "metadata": {},
   "outputs": [],
   "source": [
    "assert(donner_latitude({'Airport_ID': '333096',\n",
    "                          'Name': 'Qilian Airport',\n",
    "                          'Type': 'medium_airport',\n",
    "                          'City': 'Qilian',\n",
    "                          'Country_Code': 'CN',\n",
    "                          'IATA': 'HBQ',\n",
    "                          'Latitude': '38.012',\n",
    "                          'Longitude': '100.644',\n",
    "                          'Altitude': '10377'}) \n",
    "                           == \n",
    "                           38.012 )\n",
    "       "
   ]
  },
  {
   "cell_type": "markdown",
   "metadata": {},
   "source": [
    "# 2) Une première carte"
   ]
  },
  {
   "cell_type": "markdown",
   "metadata": {},
   "source": [
    "<div class = \"alert alert-info\">  \n",
    "\n",
    "\n",
    "**Question**  \n",
    "\n",
    "On dispose désormais de cinq fonctions :\n",
    "- `ajouter_marqueur`\n",
    "- `extraire_aeroports_dans_plage`\n",
    "- `creer_dict_popup`\n",
    "- `donner_latitude` \n",
    "- `donner_longitude`\n",
    "\n",
    "\n",
    "1) En utilisant ces cinq fonctions, compléter la cellule de code ci-dessous pour obtenir une carte avec les aéroports en bleu ayant une altitude entre 0 et 40 mètres.\n",
    "    \n",
    "    \n",
    "2) Compléter le code pour placer sur la carte les 4 autres catégories d'aéroports (40 --> 500  vert, 500-1000 --> jaune, 1000-1500 --> rouge, 1500-99999 --> noir)  \n",
    "    \n",
    "\n",
    "On pourra :\n",
    "- soit créer une fonction qui reprend le code du 1) et qu'on appelera cinq fois,\n",
    "- soit faire 4 Copier-Coller (solution moins élégante)"
   ]
  },
  {
   "cell_type": "code",
   "execution_count": null,
   "metadata": {},
   "outputs": [],
   "source": [
    "table_aeroports = charger_fichier('./airports/airports.csv')\n",
    "\n",
    "#étape 1 : création de la carte  \n",
    "ma_carte = folium.Map(location=(45, 0), zoom_start=2)\n",
    "\n",
    "#étape 2 : ajout des marqueurs\n",
    "\n",
    "#à compléter (pas mal de ligne de code)\n",
    "    \n",
    "\n",
    "#étape 3 : affichage de la carte\n",
    "ma_carte"
   ]
  },
  {
   "cell_type": "markdown",
   "metadata": {},
   "source": [
    "# 3) Une amélioration qui nécessite une fusion de tables"
   ]
  },
  {
   "cell_type": "markdown",
   "metadata": {},
   "source": [
    "On souhaite afficher une variante de cette carte pour laquelle le code du nom du pays a été remplacé par son nom de pays selon la norme ISO-3166\n",
    "\n",
    "Pour ce dernier point, il convient de savoir que notre table aéroports respectait les noms de pays de la nomre ISO-3166 et que l'on dispose d'une table adéquate permettant d'assurer la correspondance :"
   ]
  },
  {
   "cell_type": "code",
   "execution_count": null,
   "metadata": {},
   "outputs": [],
   "source": [
    "import csv\n",
    "\n",
    "def charger_fichier( nom_fic ):\n",
    "    \"\"\"\n",
    "    Permet de lire un fichier CSV en utilisant la ligne d'entêtes\n",
    "    Retourne une liste de dictionnaires.\n",
    "    \"\"\"\n",
    "    table = []\n",
    "    fichier_csv = open( nom_fic , \"r\", newline =\"\", encoding =\"utf-8\" )\n",
    "    lecteur_fichier = csv.DictReader( fichier_csv , delimiter =\",\")    \n",
    "    for enreg in lecteur_fichier :\n",
    "        table.append (dict ( enreg )) # enreg est de type OrderedDict on le remet endict\n",
    "    fichier_csv.close() \n",
    "    return table"
   ]
  },
  {
   "cell_type": "code",
   "execution_count": null,
   "metadata": {},
   "outputs": [],
   "source": [
    "table_pays = charger_fichier('./airports/countries.csv')\n",
    "table_aeroports = charger_fichier('./airports/airports.csv')"
   ]
  },
  {
   "cell_type": "markdown",
   "metadata": {},
   "source": [
    "Pour l'Andorre, le code alpha-2 est 'AD' (pour votre culture générale, il existe aussi un code alpha-3 sur 3 lettres):"
   ]
  },
  {
   "cell_type": "code",
   "execution_count": null,
   "metadata": {},
   "outputs": [],
   "source": [
    "table_pays[0]"
   ]
  },
  {
   "cell_type": "markdown",
   "metadata": {},
   "source": [
    "Nous allons fusionner la table des aéroports `table_aeroports` avec la table des pays `table_pays` afin d'obtenir une table fusionnée comportant tous les champs de la table `table_aeroports` plus le champ `Country_Name`"
   ]
  },
  {
   "cell_type": "markdown",
   "metadata": {},
   "source": [
    "<div class = \"alert alert-info\">  \n",
    "    \n",
    "\n",
    "**Question**\n",
    "    \n",
    "    \n",
    "Compléter le code de la fonction `fusionner` ci-dessous :\n",
    "- prenant en paramètre les tables `table_gauche` et `table_droite` \n",
    "    \n",
    "    \n",
    "- renvoyant une table `table_fusionnee` telle que :\n",
    "    - chaque dictionnaire de la table fusionnee comporte tous les champs de la table gauche `table_gauche` et le champ `name` de la `table_droite` renommé en champ `Country_Name`,\n",
    "    \n",
    "    - avec le champ `Country_Code` utilisé comme champ de fusion pour `table_gauche` et `code` comme champ de fusion pour `table_droite` \n",
    "    \n",
    "    \n",
    "(`table_gauche` sera la table des aéroports, `table_droite` sera la table des pays).\n",
    "    \n",
    "Voici un exemple d'enregistrement (de ligne) de la table fusionnée : on remarque le champ `Country_Name` en plus.\n",
    "\n",
    "```\n",
    "{'Airport_ID': '2596',\n",
    " 'Name': 'Sørkjosen Airport',\n",
    " 'Type': 'medium_airport',\n",
    " 'City': 'Sørkjosen',\n",
    " 'Country_Code': 'NO',\n",
    " 'IATA': 'SOJ',\n",
    " 'Latitude': '69.786796569824',\n",
    " 'Longitude': '20.959400177002',\n",
    " 'Altitude': '16',\n",
    " 'Country_Name': 'Norway'}    \n",
    "```\n",
    "   "
   ]
  },
  {
   "cell_type": "code",
   "execution_count": null,
   "metadata": {},
   "outputs": [],
   "source": [
    "import copy\n",
    "\n",
    "def fusionner(table_gauche, table_droite):\n",
    "    table_fusion = []\n",
    "    for gauche in table_gauche:\n",
    "        for droite in table_droite:\n",
    "            #à compléter      \n",
    "    return table_fusion"
   ]
  },
  {
   "cell_type": "code",
   "execution_count": null,
   "metadata": {},
   "outputs": [],
   "source": [
    "table_fusionnee = fusionner (table_aeroports, table_pays)\n",
    "table_fusionne[1500]"
   ]
  },
  {
   "cell_type": "markdown",
   "metadata": {},
   "source": [
    "<div class = \"alert alert-info\">  \n",
    "    \n",
    "\n",
    "**Question**\n",
    "    \n",
    "    \n",
    "Modifier le code ci-dessous (à un seul endroit) pour qu'il affiche les aéroports avec le nom des pays au lieu des codes des pays."
   ]
  },
  {
   "cell_type": "code",
   "execution_count": null,
   "metadata": {},
   "outputs": [],
   "source": [
    "def extraire_aeroports_dans_plage(table, alt_min, alt_max):\n",
    "    table_extraite = [aeroport for aeroport in table if\n",
    "                     alt_min <= 0.3048 * float(aeroport['Altitude']) and\n",
    "                     0.3048 * float(aeroport['Altitude']) < alt_max]\n",
    "    return table_extraite\n",
    "\n",
    "def creer_dict_popup(aeroport):\n",
    "    dico_extrait = {key:val for key, val in aeroport.items() \n",
    "                    if key in ['Name', 'City', 'Country_Code', 'IATA']}\n",
    "    return dico_extrait\n",
    "\n",
    "def donner_latitude(aeroport):\n",
    "    return float(aeroport['Latitude'])\n",
    "\n",
    "def donner_longitude(aeroport):\n",
    "    return float(aeroport['Longitude'])\n",
    "\n",
    "#étape 0 : creer la table des aeroports fusionnee\n",
    "table_pays = charger_fichier('./airports/countries.csv')\n",
    "table_aeroports = charger_fichier('./airports/airports.csv')\n",
    "table_aeroports = fusionner (table_aeroports, table_pays)\n",
    "\n",
    "#étape 1 : création de la carte  \n",
    "ma_carte = folium.Map(location=(45, 0), zoom_start=2)\n",
    "\n",
    "#étape 2 : ajout des marqueurs\n",
    "\n",
    "def ajouter_plage_sur_carte(carte, table_des_aeroports, alt_min, alt_max, couleur):\n",
    "    plage = extraire_aeroports_dans_plage(table_des_aeroports, alt_min, alt_max)\n",
    "    for aeroport in plage :\n",
    "        dict_popup = creer_dict_popup(aeroport)\n",
    "        latitude = donner_latitude(aeroport)\n",
    "        longitude = donner_longitude(aeroport)\n",
    "        ajouter_marqueur(carte, latitude, longitude, dict_popup, couleur)    \n",
    "\n",
    "ajouter_plage_sur_carte(ma_carte, table_aeroports,    0,    40, '#0000FF')\n",
    "ajouter_plage_sur_carte(ma_carte, table_aeroports,   40,   500, '#00FF00')\n",
    "ajouter_plage_sur_carte(ma_carte, table_aeroports,  500,  1000, '#FFFF00') \n",
    "ajouter_plage_sur_carte(ma_carte, table_aeroports, 1000,  1500, '#FF0000') \n",
    "ajouter_plage_sur_carte(ma_carte, table_aeroports, 1500, 99999, '#000000') \n",
    "    \n",
    "\n",
    "#étape 3 : affichage de la carte\n",
    "ma_carte"
   ]
  },
  {
   "cell_type": "code",
   "execution_count": null,
   "metadata": {},
   "outputs": [],
   "source": []
  },
  {
   "cell_type": "code",
   "execution_count": null,
   "metadata": {},
   "outputs": [],
   "source": []
  }
 ],
 "metadata": {
  "kernelspec": {
   "display_name": "Python 3",
   "language": "python",
   "name": "python3"
  },
  "language_info": {
   "codemirror_mode": {
    "name": "ipython",
    "version": 3
   },
   "file_extension": ".py",
   "mimetype": "text/x-python",
   "name": "python",
   "nbconvert_exporter": "python",
   "pygments_lexer": "ipython3",
   "version": "3.8.1"
  }
 },
 "nbformat": 4,
 "nbformat_minor": 4
}
